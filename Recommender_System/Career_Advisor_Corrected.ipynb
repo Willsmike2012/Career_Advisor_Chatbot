{
 "cells": [
  {
   "cell_type": "code",
   "execution_count": 1,
   "id": "43265e55-a425-48f6-9afa-62ad266c5d2e",
   "metadata": {},
   "outputs": [
    {
     "name": "stderr",
     "output_type": "stream",
     "text": [
      "[nltk_data] Downloading package stopwords to C:\\Users\\Wills\n",
      "[nltk_data]     Michael\\AppData\\Roaming\\nltk_data...\n",
      "[nltk_data]   Package stopwords is already up-to-date!\n",
      "[nltk_data] Downloading package punkt_tab to C:\\Users\\Wills\n",
      "[nltk_data]     Michael\\AppData\\Roaming\\nltk_data...\n",
      "[nltk_data]   Package punkt_tab is already up-to-date!\n"
     ]
    },
    {
     "data": {
      "text/plain": [
       "True"
      ]
     },
     "execution_count": 1,
     "metadata": {},
     "output_type": "execute_result"
    }
   ],
   "source": [
    "#importin required libraries\n",
    "import pandas as pd\n",
    "import random\n",
    "import nltk\n",
    "import contractions\n",
    "from nltk.stem.porter import PorterStemmer\n",
    "from nltk.corpus import stopwords\n",
    "from nltk.tokenize import word_tokenize\n",
    "nltk.download('stopwords')\n",
    "import re\n",
    "import nltk\n",
    "nltk.download('punkt_tab')"
   ]
  },
  {
   "cell_type": "code",
   "execution_count": 2,
   "id": "b872db12-23a7-4b81-bfce-fb2d4cefb424",
   "metadata": {},
   "outputs": [
    {
     "data": {
      "text/html": [
       "<div>\n",
       "<style scoped>\n",
       "    .dataframe tbody tr th:only-of-type {\n",
       "        vertical-align: middle;\n",
       "    }\n",
       "\n",
       "    .dataframe tbody tr th {\n",
       "        vertical-align: top;\n",
       "    }\n",
       "\n",
       "    .dataframe thead th {\n",
       "        text-align: right;\n",
       "    }\n",
       "</style>\n",
       "<table border=\"1\" class=\"dataframe\">\n",
       "  <thead>\n",
       "    <tr style=\"text-align: right;\">\n",
       "      <th></th>\n",
       "      <th>Position</th>\n",
       "      <th>Long Description</th>\n",
       "      <th>Company Name</th>\n",
       "      <th>Exp Years</th>\n",
       "      <th>Primary Keyword</th>\n",
       "      <th>English Level</th>\n",
       "      <th>Published</th>\n",
       "      <th>Long Description_lang</th>\n",
       "      <th>id</th>\n",
       "      <th>__index_level_0__</th>\n",
       "    </tr>\n",
       "  </thead>\n",
       "  <tbody>\n",
       "    <tr>\n",
       "      <th>0</th>\n",
       "      <td>10 + Blockchain Nodes / Masternodes to set up</td>\n",
       "      <td>*Requirements*\\r\\n\\r\\nWe're looking for a long...</td>\n",
       "      <td>MyCointainer</td>\n",
       "      <td>2y</td>\n",
       "      <td>Sysadmin</td>\n",
       "      <td>intermediate</td>\n",
       "      <td>2020-10-01T00:00:00+03:00</td>\n",
       "      <td>en</td>\n",
       "      <td>c0ca96e7-85df-50df-a64e-d934cd02a170</td>\n",
       "      <td>27461</td>\n",
       "    </tr>\n",
       "    <tr>\n",
       "      <th>1</th>\n",
       "      <td>10 .NET Developers (Middle and Senior level)</td>\n",
       "      <td>Greetings! My name is Maria, I am in urgent ne...</td>\n",
       "      <td>TechScout.tech</td>\n",
       "      <td>2y</td>\n",
       "      <td>.NET</td>\n",
       "      <td>intermediate</td>\n",
       "      <td>2022-03-01T00:00:00+02:00</td>\n",
       "      <td>en</td>\n",
       "      <td>64f4b7ea-36e4-5bdd-a8b1-185f32f7dc7f</td>\n",
       "      <td>27462</td>\n",
       "    </tr>\n",
       "    <tr>\n",
       "      <th>2</th>\n",
       "      <td>10X Engineer (co-founder, #4 employee, USD 11-...</td>\n",
       "      <td>**Product**\\r\\nThe product is a live video cha...</td>\n",
       "      <td>Innoteka</td>\n",
       "      <td>5y</td>\n",
       "      <td>JavaScript</td>\n",
       "      <td>fluent</td>\n",
       "      <td>2021-07-01T00:00:00+03:00</td>\n",
       "      <td>en</td>\n",
       "      <td>b9a1303e-dd0c-5ed1-8f62-be2bc4c7da4f</td>\n",
       "      <td>27463</td>\n",
       "    </tr>\n",
       "    <tr>\n",
       "      <th>3</th>\n",
       "      <td>16 - Amazon Brand Manager</td>\n",
       "      <td>Currently, TCM expanding its activities to Ukr...</td>\n",
       "      <td>FirstFive</td>\n",
       "      <td>2y</td>\n",
       "      <td>Marketing</td>\n",
       "      <td>upper</td>\n",
       "      <td>2022-01-01T00:00:00+02:00</td>\n",
       "      <td>en</td>\n",
       "      <td>99cb3f4a-9b4b-53d9-9a3b-bab2c22da346</td>\n",
       "      <td>27464</td>\n",
       "    </tr>\n",
       "    <tr>\n",
       "      <th>4</th>\n",
       "      <td>16 - Amazon Brand Manager</td>\n",
       "      <td>Hello,\\r\\nWe, MIMIRB2B, are an outstaff compan...</td>\n",
       "      <td>MimirB2B</td>\n",
       "      <td>1y</td>\n",
       "      <td>Marketing</td>\n",
       "      <td>upper</td>\n",
       "      <td>2021-12-01T00:00:00+02:00</td>\n",
       "      <td>en</td>\n",
       "      <td>bc1419f7-28e2-582b-8d53-22e28b2f0210</td>\n",
       "      <td>27465</td>\n",
       "    </tr>\n",
       "  </tbody>\n",
       "</table>\n",
       "</div>"
      ],
      "text/plain": [
       "                                            Position  \\\n",
       "0      10 + Blockchain Nodes / Masternodes to set up   \n",
       "1       10 .NET Developers (Middle and Senior level)   \n",
       "2  10X Engineer (co-founder, #4 employee, USD 11-...   \n",
       "3                          16 - Amazon Brand Manager   \n",
       "4                          16 - Amazon Brand Manager   \n",
       "\n",
       "                                    Long Description    Company Name  \\\n",
       "0  *Requirements*\\r\\n\\r\\nWe're looking for a long...    MyCointainer   \n",
       "1  Greetings! My name is Maria, I am in urgent ne...  TechScout.tech   \n",
       "2  **Product**\\r\\nThe product is a live video cha...        Innoteka   \n",
       "3  Currently, TCM expanding its activities to Ukr...       FirstFive   \n",
       "4  Hello,\\r\\nWe, MIMIRB2B, are an outstaff compan...        MimirB2B   \n",
       "\n",
       "  Exp Years Primary Keyword English Level                  Published  \\\n",
       "0        2y        Sysadmin  intermediate  2020-10-01T00:00:00+03:00   \n",
       "1        2y            .NET  intermediate  2022-03-01T00:00:00+02:00   \n",
       "2        5y      JavaScript        fluent  2021-07-01T00:00:00+03:00   \n",
       "3        2y       Marketing         upper  2022-01-01T00:00:00+02:00   \n",
       "4        1y       Marketing         upper  2021-12-01T00:00:00+02:00   \n",
       "\n",
       "  Long Description_lang                                    id  \\\n",
       "0                    en  c0ca96e7-85df-50df-a64e-d934cd02a170   \n",
       "1                    en  64f4b7ea-36e4-5bdd-a8b1-185f32f7dc7f   \n",
       "2                    en  b9a1303e-dd0c-5ed1-8f62-be2bc4c7da4f   \n",
       "3                    en  99cb3f4a-9b4b-53d9-9a3b-bab2c22da346   \n",
       "4                    en  bc1419f7-28e2-582b-8d53-22e28b2f0210   \n",
       "\n",
       "   __index_level_0__  \n",
       "0              27461  \n",
       "1              27462  \n",
       "2              27463  \n",
       "3              27464  \n",
       "4              27465  "
      ]
     },
     "execution_count": 2,
     "metadata": {},
     "output_type": "execute_result"
    }
   ],
   "source": [
    "#load the dataset\n",
    "df = pd.read_csv(\"data_career.csv\")\n",
    "df.head()"
   ]
  },
  {
   "cell_type": "markdown",
   "id": "bf2b58b1-5b4f-4493-8a63-8c6a5a7fbb85",
   "metadata": {},
   "source": [
    "## Step 3: Data Preprocessing"
   ]
  },
  {
   "cell_type": "markdown",
   "id": "6a4bc813-79f4-4953-9562-d1989cd23dac",
   "metadata": {},
   "source": [
    "\n",
    "## Clean and prepare the dataset\n",
    "\n",
    "**• Remove duplicates and missing values.**\n",
    "\n",
    "**• Combine skills and job description into a single text column for similarity matching.**\n",
    "## Preprocess text:\n",
    "**• Convert to lowercase.**\n",
    "\n",
    "**• Remove punctuation, numbers, and stopwords.**\n",
    "\n",
    "**• (Optional) Lemmatization using NLTK or SpaCy**"
   ]
  },
  {
   "cell_type": "markdown",
   "id": "c6469721-3369-4cf2-a067-31a0d3612e33",
   "metadata": {},
   "source": [
    "## Clean and prepare the dataset\n"
   ]
  },
  {
   "cell_type": "code",
   "execution_count": 3,
   "id": "467b0c91-e920-407f-acdb-2800308d491e",
   "metadata": {},
   "outputs": [
    {
     "data": {
      "text/html": [
       "<div>\n",
       "<style scoped>\n",
       "    .dataframe tbody tr th:only-of-type {\n",
       "        vertical-align: middle;\n",
       "    }\n",
       "\n",
       "    .dataframe tbody tr th {\n",
       "        vertical-align: top;\n",
       "    }\n",
       "\n",
       "    .dataframe thead th {\n",
       "        text-align: right;\n",
       "    }\n",
       "</style>\n",
       "<table border=\"1\" class=\"dataframe\">\n",
       "  <thead>\n",
       "    <tr style=\"text-align: right;\">\n",
       "      <th></th>\n",
       "      <th>Position</th>\n",
       "      <th>Long Description</th>\n",
       "      <th>Company Name</th>\n",
       "      <th>Exp Years</th>\n",
       "      <th>Primary Keyword</th>\n",
       "      <th>English Level</th>\n",
       "      <th>Published</th>\n",
       "      <th>Long Description_lang</th>\n",
       "      <th>id</th>\n",
       "      <th>__index_level_0__</th>\n",
       "    </tr>\n",
       "  </thead>\n",
       "  <tbody>\n",
       "    <tr>\n",
       "      <th>0</th>\n",
       "      <td>10 + Blockchain Nodes / Masternodes to set up</td>\n",
       "      <td>*Requirements*\\r\\n\\r\\nWe're looking for a long...</td>\n",
       "      <td>MyCointainer</td>\n",
       "      <td>2y</td>\n",
       "      <td>Sysadmin</td>\n",
       "      <td>intermediate</td>\n",
       "      <td>2020-10-01T00:00:00+03:00</td>\n",
       "      <td>en</td>\n",
       "      <td>c0ca96e7-85df-50df-a64e-d934cd02a170</td>\n",
       "      <td>27461</td>\n",
       "    </tr>\n",
       "    <tr>\n",
       "      <th>1</th>\n",
       "      <td>10 .NET Developers (Middle and Senior level)</td>\n",
       "      <td>Greetings! My name is Maria, I am in urgent ne...</td>\n",
       "      <td>TechScout.tech</td>\n",
       "      <td>2y</td>\n",
       "      <td>.NET</td>\n",
       "      <td>intermediate</td>\n",
       "      <td>2022-03-01T00:00:00+02:00</td>\n",
       "      <td>en</td>\n",
       "      <td>64f4b7ea-36e4-5bdd-a8b1-185f32f7dc7f</td>\n",
       "      <td>27462</td>\n",
       "    </tr>\n",
       "    <tr>\n",
       "      <th>2</th>\n",
       "      <td>10X Engineer (co-founder, #4 employee, USD 11-...</td>\n",
       "      <td>**Product**\\r\\nThe product is a live video cha...</td>\n",
       "      <td>Innoteka</td>\n",
       "      <td>5y</td>\n",
       "      <td>JavaScript</td>\n",
       "      <td>fluent</td>\n",
       "      <td>2021-07-01T00:00:00+03:00</td>\n",
       "      <td>en</td>\n",
       "      <td>b9a1303e-dd0c-5ed1-8f62-be2bc4c7da4f</td>\n",
       "      <td>27463</td>\n",
       "    </tr>\n",
       "    <tr>\n",
       "      <th>3</th>\n",
       "      <td>16 - Amazon Brand Manager</td>\n",
       "      <td>Currently, TCM expanding its activities to Ukr...</td>\n",
       "      <td>FirstFive</td>\n",
       "      <td>2y</td>\n",
       "      <td>Marketing</td>\n",
       "      <td>upper</td>\n",
       "      <td>2022-01-01T00:00:00+02:00</td>\n",
       "      <td>en</td>\n",
       "      <td>99cb3f4a-9b4b-53d9-9a3b-bab2c22da346</td>\n",
       "      <td>27464</td>\n",
       "    </tr>\n",
       "    <tr>\n",
       "      <th>4</th>\n",
       "      <td>16 - Amazon Brand Manager</td>\n",
       "      <td>Hello,\\r\\nWe, MIMIRB2B, are an outstaff compan...</td>\n",
       "      <td>MimirB2B</td>\n",
       "      <td>1y</td>\n",
       "      <td>Marketing</td>\n",
       "      <td>upper</td>\n",
       "      <td>2021-12-01T00:00:00+02:00</td>\n",
       "      <td>en</td>\n",
       "      <td>bc1419f7-28e2-582b-8d53-22e28b2f0210</td>\n",
       "      <td>27465</td>\n",
       "    </tr>\n",
       "  </tbody>\n",
       "</table>\n",
       "</div>"
      ],
      "text/plain": [
       "                                            Position  \\\n",
       "0      10 + Blockchain Nodes / Masternodes to set up   \n",
       "1       10 .NET Developers (Middle and Senior level)   \n",
       "2  10X Engineer (co-founder, #4 employee, USD 11-...   \n",
       "3                          16 - Amazon Brand Manager   \n",
       "4                          16 - Amazon Brand Manager   \n",
       "\n",
       "                                    Long Description    Company Name  \\\n",
       "0  *Requirements*\\r\\n\\r\\nWe're looking for a long...    MyCointainer   \n",
       "1  Greetings! My name is Maria, I am in urgent ne...  TechScout.tech   \n",
       "2  **Product**\\r\\nThe product is a live video cha...        Innoteka   \n",
       "3  Currently, TCM expanding its activities to Ukr...       FirstFive   \n",
       "4  Hello,\\r\\nWe, MIMIRB2B, are an outstaff compan...        MimirB2B   \n",
       "\n",
       "  Exp Years Primary Keyword English Level                  Published  \\\n",
       "0        2y        Sysadmin  intermediate  2020-10-01T00:00:00+03:00   \n",
       "1        2y            .NET  intermediate  2022-03-01T00:00:00+02:00   \n",
       "2        5y      JavaScript        fluent  2021-07-01T00:00:00+03:00   \n",
       "3        2y       Marketing         upper  2022-01-01T00:00:00+02:00   \n",
       "4        1y       Marketing         upper  2021-12-01T00:00:00+02:00   \n",
       "\n",
       "  Long Description_lang                                    id  \\\n",
       "0                    en  c0ca96e7-85df-50df-a64e-d934cd02a170   \n",
       "1                    en  64f4b7ea-36e4-5bdd-a8b1-185f32f7dc7f   \n",
       "2                    en  b9a1303e-dd0c-5ed1-8f62-be2bc4c7da4f   \n",
       "3                    en  99cb3f4a-9b4b-53d9-9a3b-bab2c22da346   \n",
       "4                    en  bc1419f7-28e2-582b-8d53-22e28b2f0210   \n",
       "\n",
       "   __index_level_0__  \n",
       "0              27461  \n",
       "1              27462  \n",
       "2              27463  \n",
       "3              27464  \n",
       "4              27465  "
      ]
     },
     "execution_count": 3,
     "metadata": {},
     "output_type": "execute_result"
    }
   ],
   "source": [
    "df.head(5)"
   ]
  },
  {
   "cell_type": "code",
   "execution_count": 4,
   "id": "5805b931-2476-40d3-9876-3f1960e38167",
   "metadata": {},
   "outputs": [],
   "source": [
    "#Identifying the features we would use for this project and dropping irrelevant features\n",
    "df = df.drop(['Company Name', 'Exp Years',\n",
    "             'English Level', 'Published',\n",
    "       'Long Description_lang', 'id', '__index_level_0__', 'Primary Keyword'], axis=1)"
   ]
  },
  {
   "cell_type": "code",
   "execution_count": 5,
   "id": "88f3f1f4-d8e8-4347-aa57-11e4004078bf",
   "metadata": {},
   "outputs": [],
   "source": [
    "#Rename relevant columns to match project needs\n",
    "df = df.rename(columns={\n",
    "    'Position': 'Job_Title',\n",
    "    'Long Description': 'Job_Description'\n",
    "})"
   ]
  },
  {
   "cell_type": "markdown",
   "id": "0998815d-a1ad-44f0-b259-6fa2ba23b674",
   "metadata": {},
   "source": [
    "## Remove duplicates and missing values"
   ]
  },
  {
   "cell_type": "code",
   "execution_count": 6,
   "id": "51d87e93-8452-4c54-968b-30d499938576",
   "metadata": {},
   "outputs": [
    {
     "data": {
      "text/plain": [
       "Job_Title          0\n",
       "Job_Description    0\n",
       "dtype: int64"
      ]
     },
     "execution_count": 6,
     "metadata": {},
     "output_type": "execute_result"
    }
   ],
   "source": [
    "#checking for missing values\n",
    "df.isnull().sum()"
   ]
  },
  {
   "cell_type": "code",
   "execution_count": 7,
   "id": "edee3b56-9968-4d6c-accb-95fb6efa33f4",
   "metadata": {},
   "outputs": [
    {
     "data": {
      "text/plain": [
       "0"
      ]
     },
     "execution_count": 7,
     "metadata": {},
     "output_type": "execute_result"
    }
   ],
   "source": [
    "#checking for duplicates\n",
    "df.duplicated().sum()"
   ]
  },
  {
   "cell_type": "code",
   "execution_count": 8,
   "id": "e0481f99-3308-4f4a-9729-3e77a842be84",
   "metadata": {},
   "outputs": [
    {
     "data": {
      "text/html": [
       "<div>\n",
       "<style scoped>\n",
       "    .dataframe tbody tr th:only-of-type {\n",
       "        vertical-align: middle;\n",
       "    }\n",
       "\n",
       "    .dataframe tbody tr th {\n",
       "        vertical-align: top;\n",
       "    }\n",
       "\n",
       "    .dataframe thead th {\n",
       "        text-align: right;\n",
       "    }\n",
       "</style>\n",
       "<table border=\"1\" class=\"dataframe\">\n",
       "  <thead>\n",
       "    <tr style=\"text-align: right;\">\n",
       "      <th></th>\n",
       "      <th>Job_Title</th>\n",
       "      <th>Job_Description</th>\n",
       "    </tr>\n",
       "  </thead>\n",
       "  <tbody>\n",
       "    <tr>\n",
       "      <th>0</th>\n",
       "      <td>10 + Blockchain Nodes / Masternodes to set up</td>\n",
       "      <td>*Requirements*\\r\\n\\r\\nWe're looking for a long...</td>\n",
       "    </tr>\n",
       "    <tr>\n",
       "      <th>1</th>\n",
       "      <td>10 .NET Developers (Middle and Senior level)</td>\n",
       "      <td>Greetings! My name is Maria, I am in urgent ne...</td>\n",
       "    </tr>\n",
       "    <tr>\n",
       "      <th>2</th>\n",
       "      <td>10X Engineer (co-founder, #4 employee, USD 11-...</td>\n",
       "      <td>**Product**\\r\\nThe product is a live video cha...</td>\n",
       "    </tr>\n",
       "    <tr>\n",
       "      <th>3</th>\n",
       "      <td>16 - Amazon Brand Manager</td>\n",
       "      <td>Currently, TCM expanding its activities to Ukr...</td>\n",
       "    </tr>\n",
       "    <tr>\n",
       "      <th>4</th>\n",
       "      <td>16 - Amazon Brand Manager</td>\n",
       "      <td>Hello,\\r\\nWe, MIMIRB2B, are an outstaff compan...</td>\n",
       "    </tr>\n",
       "  </tbody>\n",
       "</table>\n",
       "</div>"
      ],
      "text/plain": [
       "                                           Job_Title  \\\n",
       "0      10 + Blockchain Nodes / Masternodes to set up   \n",
       "1       10 .NET Developers (Middle and Senior level)   \n",
       "2  10X Engineer (co-founder, #4 employee, USD 11-...   \n",
       "3                          16 - Amazon Brand Manager   \n",
       "4                          16 - Amazon Brand Manager   \n",
       "\n",
       "                                     Job_Description  \n",
       "0  *Requirements*\\r\\n\\r\\nWe're looking for a long...  \n",
       "1  Greetings! My name is Maria, I am in urgent ne...  \n",
       "2  **Product**\\r\\nThe product is a live video cha...  \n",
       "3  Currently, TCM expanding its activities to Ukr...  \n",
       "4  Hello,\\r\\nWe, MIMIRB2B, are an outstaff compan...  "
      ]
     },
     "execution_count": 8,
     "metadata": {},
     "output_type": "execute_result"
    }
   ],
   "source": [
    "df.head()"
   ]
  },
  {
   "cell_type": "markdown",
   "id": "1bcf65bc-9c38-475e-a716-d078fd7593e8",
   "metadata": {},
   "source": [
    "## Cleaning some Basic Inconsistencies from the dataset"
   ]
  },
  {
   "cell_type": "code",
   "execution_count": 9,
   "id": "89cbbc37-41a4-4054-95e5-8f06479a434e",
   "metadata": {},
   "outputs": [],
   "source": [
    "#cleaning the job_title colum\n",
    "def clean_job_title(title):\n",
    "    \"\"\"\n",
    "    Cleans raw job title text by removing numbers, symbols, brackets, and non-English characters.\n",
    "    \"\"\"\n",
    "    title = re.sub(r'^[^A-Za-z]+', '', str(title))      # Remove leading numbers/symbols\n",
    "    title = re.sub(r'[\\(\\[].*?[\\)\\]]', '', title)       # Remove content inside () or []\n",
    "    title = re.sub(r'[^A-Za-z0-9\\s\\.-]', '', title)     # Remove non-English chars\n",
    "    title = re.sub(r'\\s+', ' ', title).strip()          # Remove extra spaces\n",
    "    return title\n",
    "    \n",
    "#Applying the clean job_title\n",
    "df[\"Job_Title_Clean\"] = df[\"Job_Title\"].apply(clean_job_title)"
   ]
  },
  {
   "cell_type": "code",
   "execution_count": 10,
   "id": "38b7bfe3-a774-48f5-91a8-6dd691d7880a",
   "metadata": {},
   "outputs": [
    {
     "data": {
      "text/html": [
       "<div>\n",
       "<style scoped>\n",
       "    .dataframe tbody tr th:only-of-type {\n",
       "        vertical-align: middle;\n",
       "    }\n",
       "\n",
       "    .dataframe tbody tr th {\n",
       "        vertical-align: top;\n",
       "    }\n",
       "\n",
       "    .dataframe thead th {\n",
       "        text-align: right;\n",
       "    }\n",
       "</style>\n",
       "<table border=\"1\" class=\"dataframe\">\n",
       "  <thead>\n",
       "    <tr style=\"text-align: right;\">\n",
       "      <th></th>\n",
       "      <th>Job_Title</th>\n",
       "      <th>Job_Title_Clean</th>\n",
       "    </tr>\n",
       "  </thead>\n",
       "  <tbody>\n",
       "    <tr>\n",
       "      <th>30444</th>\n",
       "      <td>Lead Python developer for Risk Management Plat...</td>\n",
       "      <td>[Lead Python developer for Risk Management Pla...</td>\n",
       "    </tr>\n",
       "    <tr>\n",
       "      <th>3689</th>\n",
       "      <td>Automation QA Engineer (Cypress)</td>\n",
       "      <td>[Automation QA Engineer]</td>\n",
       "    </tr>\n",
       "    <tr>\n",
       "      <th>58106</th>\n",
       "      <td>Senior Performance and Reliability Engineer in...</td>\n",
       "      <td>[Senior Performance and Reliability Engineer i...</td>\n",
       "    </tr>\n",
       "    <tr>\n",
       "      <th>1956</th>\n",
       "      <td>Administrative Worker</td>\n",
       "      <td>[Administrative Worker]</td>\n",
       "    </tr>\n",
       "    <tr>\n",
       "      <th>47180</th>\n",
       "      <td>RPA (Robotic Process Automation - UI Path/Python)</td>\n",
       "      <td>[RPA]</td>\n",
       "    </tr>\n",
       "    <tr>\n",
       "      <th>63399</th>\n",
       "      <td>Sr. C# .Net/Core developer (Fintech project)</td>\n",
       "      <td>[Sr. C .NetCore developer]</td>\n",
       "    </tr>\n",
       "    <tr>\n",
       "      <th>1800</th>\n",
       "      <td>Account manager (Italian language)</td>\n",
       "      <td>[Account manager]</td>\n",
       "    </tr>\n",
       "    <tr>\n",
       "      <th>53987</th>\n",
       "      <td>Senior FE engineer</td>\n",
       "      <td>[Senior FE engineer]</td>\n",
       "    </tr>\n",
       "    <tr>\n",
       "      <th>30490</th>\n",
       "      <td>Lead QA Platforms</td>\n",
       "      <td>[Lead QA Platforms]</td>\n",
       "    </tr>\n",
       "    <tr>\n",
       "      <th>28389</th>\n",
       "      <td>Junior to Middle UI/UX Designer with interest ...</td>\n",
       "      <td>[Junior to Middle UIUX Designer with interest ...</td>\n",
       "    </tr>\n",
       "  </tbody>\n",
       "</table>\n",
       "</div>"
      ],
      "text/plain": [
       "                                               Job_Title  \\\n",
       "30444  Lead Python developer for Risk Management Plat...   \n",
       "3689                    Automation QA Engineer (Cypress)   \n",
       "58106  Senior Performance and Reliability Engineer in...   \n",
       "1956                               Administrative Worker   \n",
       "47180  RPA (Robotic Process Automation - UI Path/Python)   \n",
       "63399       Sr. C# .Net/Core developer (Fintech project)   \n",
       "1800                  Account manager (Italian language)   \n",
       "53987                                 Senior FE engineer   \n",
       "30490                                  Lead QA Platforms   \n",
       "28389  Junior to Middle UI/UX Designer with interest ...   \n",
       "\n",
       "                                         Job_Title_Clean  \n",
       "30444  [Lead Python developer for Risk Management Pla...  \n",
       "3689                            [Automation QA Engineer]  \n",
       "58106  [Senior Performance and Reliability Engineer i...  \n",
       "1956                             [Administrative Worker]  \n",
       "47180                                              [RPA]  \n",
       "63399                         [Sr. C .NetCore developer]  \n",
       "1800                                   [Account manager]  \n",
       "53987                               [Senior FE engineer]  \n",
       "30490                                [Lead QA Platforms]  \n",
       "28389  [Junior to Middle UIUX Designer with interest ...  "
      ]
     },
     "execution_count": 10,
     "metadata": {},
     "output_type": "execute_result"
    }
   ],
   "source": [
    "#Viewing the job_titlr column to see the changes\n",
    "check_mapping1 = df.groupby(\"Job_Title\")[\"Job_Title_Clean\"].unique().reset_index()\n",
    "\n",
    "# show first few rows after the changes\n",
    "check_mapping1.sample(10)"
   ]
  },
  {
   "cell_type": "code",
   "execution_count": 11,
   "id": "25bfdd40-ae00-42db-b977-16d2b6895c44",
   "metadata": {},
   "outputs": [
    {
     "data": {
      "text/plain": [
       "Job_Description\n",
       "*Requirements*\\r\\n\\r\\nWe're looking for a long term collaboration with someone that has an experience in crypto, masternodes, nodes, validators etc. We need to set up:\\r\\n\\r\\nKyber Network\\r\\nNebulas\\r\\nSecretNetwork\\r\\nTron\\r\\nAion\\r\\nDeFiChain\\r\\nEOS\\r\\nTomoChain\\r\\nElrond\\r\\nIRISnet\\r\\nIoTeX\\r\\nTerra\\r\\nChainX\\r\\nThorchain\\r\\n\\r\\nSuccesful candidates will have an opportunity to get more jobs and long term collaboration.                                                                                                                                                                                                                                                                                                                                                                                                                                                                                                                                                                                                                                                                                                                                                                                                                                                                                                                                                                                                                                                                                                                                                                                                                                                                                                                                                                                                                                                                                                                                                                                                                                                                                                                                                                                                                                                                                                                                                                                                                                                                                                                                                                                                                                                                                                                                                                                                                                                                                                                                                                                                                                                                                                                                                                                                                                                                                                                                                                                                                                                                                                                                                                                                                                                                                                                                                                                                                                                                                                                                                                                                                                                                                                                                                                                                                                                                                                                                                                                                                                                                                                                                                                                                                                                                                                                                                                                                                                                                                                                                                                                                                                                                                                                                                                                                                                                                                                                                                                                                                                                                                                           1\n",
       "**The client is** a Nordic-based streaming platform.\\r\\n**You need to** rewrite a search module for the platform. \\r\\nThe project will take around **60 hours.**\\r\\n\\r\\n**Must haves:**\\r\\n- 3+ year Experience in Python / Django\\r\\n- 2+ year Experience with developing REST APIs\\r\\n\\r\\n**Plus:**\\r\\n- Implemented search in Django projects\\r\\n- Worked with Meilisearch and/or Elasticsearch\\r\\n\\r\\n**Soft Values:**\\r\\n- Self-going, taking initiatives\\r\\n- Spoken English\\r\\n\\r\\nIt's **a side project (60 hours) & remote.**\\r\\n**English:** Upper-Intermediate\\r\\n**Interview process:** intro - technical interview                                                                                                                                                                                                                                                                                                                                                                                                                                                                                                                                                                                                                                                                                                                                                                                                                                                                                                                                                                                                                                                                                                                                                                                                                                                                                                                                                                                                                                                                                                                                                                                                                                                                                                                                                                                                                                                                                                                                                                                                                                                                                                                                                                                                                                                                                                                                                                                                                                                                                                                                                                                                                                                                                                                                                                                                                                                                                                                                                                                                                                                                                                                                                                                                                                                                                                                                                                                                                                                                                                                                                                                                                                                                                                                                                                                                                                                                                                                                                                                                                                                                                                                                                                                                                                                                                                                                                                                                                                                                                                                                                                                                                                                                                                                                                                                                                                                                                                                      1\n",
       "We are building a new platform that will allow our clients to expand the services they offer. Currently, three planned releases will be supported by the new platform.\\r\\nWe are building a team of experienced developers to take over the development of this new platform. The new platform is built using a microservices architecture with a fully automated CI/CD pipeline. \\r\\n\\r\\n**Requirements:**\\r\\n- extensive backend development experience (7+ years);\\r\\n- knowledge of Python;\\r\\n- extensive, recent hands-on experience developing software products in Python;\\r\\n- knowledge of Flask;\\r\\n- knowledge of MongoDB;\\r\\n- knowledge of GoogleMaps;\\r\\n- has experience with microservices architecture;\\r\\n- has experience architecting and developing large-scale, microservice systems;\\r\\n- ability to analyze and operate at various levels of abstraction;\\r\\n- has experience using Git and understands git workflow;\\r\\n- experience with CI/CD (Jenkins, Gitlab) pipelines;\\r\\n- experience working in an Agile environment;\\r\\n- good presentation and time management skills;\\r\\n- advanced communication skills in English, both written and spoken (B2 or higher).\\r\\n\\r\\n**Big plus:**\\r\\n- experience as a Software Architect;\\r\\n\\r\\n**Duties:**\\r\\n- justifications of said technical designs with stakeholders (both the team and the client);\\r\\n- architect and design solutions to meet functional and non-functional requirements;\\r\\n- build reusable code/components;\\r\\n- optimize code for performance and scalability.\\r\\n\\r\\n**Technologies:**\\r\\n- Kubernetes, Docker, GitLab;\\r\\n- Flask, React.js, Next.js;\\r\\n- MongoDB, ElasticSearch, Redis, RabbitMQ;\\r\\n- ClickUp (ticketing), Slack (communication), Grafana (reporting);\\r\\n- Scrum with 2 weeks sprint, standup every day;                                                                                                                                                                                                                                                                                                                                                                                                                                                                                                                                                                                                                                                                                                                                                                                                                                                                                                                                                                                                                                                                                                                                                                                                                                                                                                                                                                                                                                                                                                                                                                                                                                                                                                                                                                                                                                                                                                                                                                                                                                                                                                                                                                                                                                                                                                                                                                                                                                                                                                                                                                                                                                                                                                                                                                                                                                                                                                                                                                                                                                                                                                                                                                                                                                                                                                                                                                                                                                                                                                                                                                                                                                                                                                                  1\n",
       "Project Description:\\r\\nDevOps team supporting a trading desk using the SunGard Front Arena system. This is used for trading a variety of products in Equities and Fixed Income + derivatives.\\r\\n\\r\\nLeading global IT consultancy company operating in more than 50 countries is looking for Front Arena specialist combining Business Analyst and Developers skills who will be supporting and enhancing the application for our clients in financial domain.\\r\\nThe application is used by trading desks, middle office and back office departments. It is deeply integrated with other applications via different technologies and has plenty of customizations (mostly written in Python).\\r\\nWide variety of financial products (fixed income, equities, derivatives) are configured and require respective solutions for valuations, risk assessment, scenarios.\\r\\nWork in a multinational environment with respective values and opportunities. The teams follow agile methodologies of software delivery (both Scrum and Kanban).\\r\\nResponsibilities:\\r\\nFor a Senior BA profile:\\r\\n* On a day-to-day activities you will be responsible for designing and implementing different solutions via conducting Business Analysis, Development, QA and Release Management activities as well as configuration of the complex financial instruments and useful tools.\\r\\n* You will be in touch with business users and other IT departments to understand and document the problem requiring solution. In some cases the environment need to be configured or particular module enhanced or written in Python.\\r\\n* Writing SQL (as well as asql) requests, Wiki management, report creation applying ADFL are also part of daily work.\\r\\n\\r\\nFor a Python Dev profile:\\r\\nOn a day-to-day activities you will be responsible for designing and implementing different solutions via conducting Business Analysis, Development, QA and Release Management activities as well as configuration of the complex financial instruments and useful tools.\\r\\nYou will be in touch with business users and other IT departments to understand and document the problem requiring solution. In some cases the environment need to be configured or particular module enhanced or written in Python.\\r\\nWriting SQL (as well as asql) requests, Wiki management, report creation applying ADFL are also part of daily work.\\r\\nMandatory Skills Description:\\r\\n* Knowledge and experience of using Python or Java (medium level)\\r\\n* Skilled in SQL queries & coding\\r\\n* Experience working with tools like: SVN/TortoiseSVN or Jira/Wiki/FishEye\\r\\n\\r\\n* Experience working in Financial Services/Capital Markets (Understanding of trade life cycle, common financial instruments and derivatives concept)\\r\\n* Self-motivated and a team player with good problem solving skills.\\r\\n* Fluent written and spoken English, excellent communication skills.\\r\\n\\r\\nFor Python Dev:\\r\\nProven experience as a Python developer or equivalent role, within a global IT organisation working in an international environment\\r\\nKnowledge and experience of using Python (medium level)\\r\\nExperience working in Financial Services/Capital Markets (Understanding of trade life cycle, common financial instruments and derivatives concept)\\r\\nExperience working with SVN/TortoiseSVN Jira/Wiki/FishEye\\r\\nSelf-motivated and a team player with good problem solving skills.\\r\\nFluent written and spoken English, excellent communication skills.\\r\\nNice-to-Have Skills:\\r\\n* Experience with Front Arena (Sungard/FIS)\\r\\n* Experience with Murex\\r\\n* Knowledge and experience of using the following technologies: AEL, ACM, ADFL, Python 2.7/3.5, ASQL, SQL\\r\\n* Knowledge of financial products: Capital Markets; Credit; Equities; Equity Derivatives; FX; Operations; Derivatives;FI;Agile;Front Office;Risk                                                                                                                                                                                                                                                                                                                                                                                                                                                                                                                                                                                                                                                                                                                                                                                                                                                                                                                                                                                                                                                                                                                                                                                                                                                                                                                                                                                                                                                                                                                                                                                                                         1\n",
       "The Senior Cloud Infrastructure Engineer will work on building cloud-native and hybrid infrastructure through Infrastructure as Code, create toolsets and services for the delivery of applications and infrastructure components. Some of these components include container orchestration platforms (Google Kubernetes Engine or OpenShift), container provisioning engines, configuration and secrets management, stand up / provisioning Terraform modules, and others.\\r\\n\\r\\nResponsibilities:\\r\\nChampion “Production Quality” and create cutting edge cloud infrastructure through Infrastructure-as-Code and automation.\\r\\nBuild and improve cloud infrastructure self-service tooling that powers our internal platform used by hundreds of developers.\\r\\nLead and participate in technical discussions to aid system design, analysis, and troubleshooting.\\r\\nHelp engineering teams to develop, test, debug and release scalable, resilient and high available cloud-native applications quickly.\\r\\nRarely required to be available after hours for planned activities\\r\\n\\r\\nRequirements:\\r\\nDeep understanding of Cloud computing concepts and solutions including public, private, hybrid cloud.\\r\\nA good understanding of Cloud Security, specifically IAM Roles & Policies, Security Groups and Encryption keys\\r\\nDemonstrated experience supporting at least one of the predominant public clouds (AWS, Azure, or GCP)\\r\\nHands-on experience with container technologies, like Docker runtime and Kubernetes orchestration.\\r\\nKnowledge of Google Kubernetes Engine or OpenShift is nice to have.\\r\\nAbility to write clean code in at least one language (i.e Python, Golang, Bash etc.)\\r\\nExperience working with Infrastructure-as-Code tools such as Terraform, CloudFormation, Cloud Deployment Manager.\\r\\nExposure or familiarity to Linux Operating system administration and a good understanding of Linux fundamentals like signals, scheduling, filesystems\\r\\nStrong TCP/IP networking knowledge in either cloud or on-prem deployments: DNS, network, routing, L3/L7 protocols etc.\\r\\nExperience with Hashicorp Vault or other secrets management approaches is nice to have.\\r\\nExperience in building systems in a microservice environment.\\r\\nUnderstanding the basic building blocks of resilient and scalable software.\\r\\nExcellent organizational, communication, analytical, and interpersonal skills and ability to write clear technical documentation.\\r\\n\\r\\nWe offer:\\r\\nFlexible working hours\\r\\nA competitive salary and good compensation package\\r\\nBest hardware\\r\\nA masseur and a corporate doctor\\r\\nHealthcare & sport benefits\\r\\nAn inspiring, comfy, clean and safe office\\r\\nChallenging tasks and innovative projects\\r\\nMeetups and events for professional development\\r\\nAn individual development plan\\r\\nMentorship program                                                                                                                                                                                                                                                                                                                                                                                                                                                                                                                                                                                                                                                                                                                                                                                                                                                                                                                                                                                                                                                                                                                                                                                                                                                                                                                                                                                                                                                                                                                                                                                                                                                                                                                                                                                                                                                                                                                                                                                                                                                                                                                                                                                                                                                                                                                                                                                                                                                                                                                                                                                                                                              1\n",
       "                                                                                                                                                                                                                                                                                                                                                                                                                                                                                                                                                                                                                                                                                                                                                                                                                                                                                                                                                                                                                                                                                                                                                                                                                                                                                                                                                                                                                                                                                                                                                                                                                                                                                                                                                                                                                                                                                                                                                                                                                                                                                                                                                                                                                                                                                                                                                                                                                                                                                                                                                                                                                                                                                                                                                                                                                                                                                                                                                                                                                                                                                                                                                                                                                                                                                                                                                                                                                                                                                                                                                                                                                                                                                                                                                                                                                                                                                                                                                                                                                                                                                                                                                                                                                                                                                                                                                                                                                                                                                                                                                                                                                                                                                                                                                                                                                                                                                                                                                                                                                                                                                                                                                                                                                                                                                                                                                                                                                                                                                                                                                    ..\n",
       "IT Recruiter (Middle)\\r\\n Киев, удаленно\\r\\nНеобходимые навыки\\r\\nWe need you if:\\r\\n— You love what you are doing. You act like an account manager for every candidate, you listen, observe, care, give constant feedback.\\r\\n— You have 2+ years of IT recruiting experience\\r\\n— You want to learn and you are eager to self-improvement\\r\\n— You have superb interpersonal and communication skills\\r\\n— You understand business needs of the company, you feel the right profile, understand peculiarities of each project.\\r\\n— You know how to get things done. If you don’t know, you come and ask for help.\\r\\n— You know English at least on Upper-Intermediate level\\r\\n— You understand IT market in general\\r\\n— You are not afraid of new challenges and new market opportunities\\r\\n\\r\\nПредлагаем\\r\\nWe can offer you:\\r\\n— Our evaluation process is focused on A-Players hiring only with strong technical knowledge as well as exceptional soft skills as our standards of development must meet the requirements of our most progressive hi-tech projects\\r\\n— Flexible working hours\\r\\n— 20 working days paid vacations and sick leaves\\r\\n— Free English classes to maintain your level\\r\\n— Office near Polytechnic Institute\\r\\n— Lots of fun, poker, ping-pong, yoga, board games and lots of other activities\\r\\n— High-level compensation and regular performance-based salary and salary development reviews\\r\\n\\r\\nОбязанности\\r\\nWe are looking for a very motivated and passionate IT Recruiter to join our HR department and help us grow our IT teams.\\r\\n\\r\\nUltimately, you will build a strong tech talent pipeline and help hire and retain skilled employees for our IT positions.                                                                                                                                                                                                                                                                                                                                                                                                                                                                                                                                                                                                                                                                                                                                                                                                                                                                                                                                                                                                                                                                                                                                                                                                                                                                                                                                                                                                                                                                                                                                                                                                                                                                                                                                                                                                                                                                                                                                                                                                                                                                                                                                                                                                                                                                                                                                                                                                                                                                                                                                                                                                                                                                                                                                                                                                                                                                                                                                                                                                                                                                                                                                                                                                                                                                                                                                                                                                                                                                                                                                                                                                                                                                                                                                                                                                                            1\n",
       "**IT Recruiter | Genesis Investments **\\r\\n \\r\\n**Genesis** is a full-service international IT company. More than 1,500 people in five countries create products for more than 200 million unique monthly users. We are one of the largest partners of Facebook, Google, Snapchat, and Apple in Eastern Europe. Our ecosystem consists of more than 15 companies and a venture capital fund. Genesis was recognised by DOU.UA as the Best IT Employer in Ukraine over the last years. We received very high ratings across all major evaluation categories such as professional growth, compensation, working conditions, communication with management and colleagues, etc.\\r\\n \\r\\n**Genesis Investments** is a venture capital fund made by entrepreneurs with unparalleled track record and practical experience of building large international digital businesses from Ukraine. Genesis Investments was recognised as the most active venture capital fund in Ukraine. We invest in early stage startups founded by exceptional founders from Central Eastern Europe and beyond. In addition to financial investment, we provide practical support in business building and growth through our Growth Team.\\r\\n \\r\\n***\\r\\n \\r\\nCurrently, we are looking for an **IT Recruiter ** (multiple roles) who will join the fund’s Growth Team and will work with startup founders and senior management to fill in some of the most important positions in the companies we have invested in.\\r\\n\\r\\n**We look to fill multiple roles: Senior IT Recruiter, Middle IT Recruiter, Junior IT Recruiter, Recruitment Researcher (Sourcer). Requirements will be adjusted to the role accordingly.**\\r\\n\\r\\n***\\r\\n \\r\\nYou will have the chance to impact international digital businesses featured in TechCrunch and Forbes. Your work will impact innovative digital products and services that are changing the world. You will have the opportunity to staff the star teams and provide life-changing career opportunities to some of the brightest candidates.\\r\\n \\r\\n**What you will do:**\\r\\n- You will be responsible for the full-cycle recruitment processes of various technical and non-technical positions\\r\\n- Be a partner and advisor to founders, CEOs and senior management in questions related to talent acquisition, helping them to define roles, understand the job market, and make right hiring decisions\\r\\n- Contribute to the improvement of the hiring process\\r\\n \\r\\n**What we expect from you:**\\r\\n- At least 1 year of experience in recruitment (or recruitment research)\\r\\n- Experience in closing different IT/non-IT positions (Middle/Senior Level) and participating in all stages of recruiting process\\r\\n- Knowledge of recruitment techniques, and experience in headhunting\\r\\n- Knowledge of various sourcing channels and techniques\\r\\n- Relationship building, influencing, and negotiating skills\\r\\n- Strong decision-making skills\\r\\n- Ability to prioritize tasks and meet deadlines\\r\\n- Strong focus on result\\r\\n- Intermediate level of written and conversational English\\r\\n \\r\\n**Would be an advantage:**\\r\\n- More than 2 years in IT recruitment with leading IT-companies\\r\\n- Great understanding of different technical and non-technical, middle and senior profiles and how these different profiles contribute to the business outcomes\\r\\n- Good understanding of labour market across Ukraine and CIS\\r\\n \\r\\nYou will be working with a professional and motivated team in the environment that brings up best in everyone. We have no bureaucracy, and we give our colleagues complete freedom to make decisions and achieve brilliant results.\\r\\n \\r\\n \\r\\n**Genesis is a unique place for development and growth:**\\r\\n \\r\\n**Comfortable work environment and flexible work hours**\\r\\nAn excellent office with a summer terrace, lounge zone, kitchen, and PlayStation located within a 5-minute walk from Tarasa Shevchenka metro station. There are many plants and a special ventilation system in our offices. We provide 20 days of paid vacation and flexible work hours.\\r\\n \\r\\n**Health care and Sport**\\r\\nWe provide breakfasts, lunches, unlimited fruit, snacks, smoothies, and yoghurts in the office. The office also has an in-house corporate doctor. We provide employees with health insurance. Free training for running, football, basketball, volleyball, and yoga with professional coaches is available to staff. Corporate discounts for a gym membership and sponsorship for participation in sports competitions are also accessible.\\r\\n \\r\\n**Learning and Development**\\r\\nWe have Business and Management Schools for company employees with Genesis executives as lecturers. We provide an online library and free English lessons as well as access to paid conferences, training, and seminars.\\r\\n \\r\\n**Loud parties**\\r\\nEvery summer and winter, we organize parties with crazy line-ups at cool locations. Every month each project meets for a get-together, and after a quarterly report, there is a party.\\r\\n \\r\\nGenesis is an entrepreneurial ecosystem where every employee can make their ideas a reality. Almost all Genesis executives have grown within the company and started managing projects by the age of 22-27 years. We invest and encourage the initiatives of our employees. Currently, 70% of Genesis' revenue comes from projects that five years ago didn't even exist.\\r\\n \\r\\n**Join our team! **    1\n",
       "IT Recruiter at Xaiow is a highly impactful role responsible for understanding our hiring needs, developing recruitment strategies focused on hiring the most exceptional people that embody company values.\\r\\n\\r\\n**Requirements:**\\r\\n\\r\\n3+ years of full-cycle IT recruiting experience  \\r\\nPassion for meeting top talent, understanding what drives them \\r\\nExperience using various market analysis, researches \\r\\nExcellent written and verbal communication skills \\r\\nCapability of understanding and communicating complex technical requirements \\r\\nAbility to develop solid relationships and proactively engage with both candidates and hiring managers \\r\\nAbility to follow the commitment within the agreed deadlines \\r\\nExperience utilizing data and analytical skills to create, measure, and improve to achieve accelerated hiring goals \\r\\nAlways seeking to improve processes and suggest alternatively better solutions \\r\\nStrong self-motivation, reliable and flexible \\r\\nExcellent English both verbal and written \\r\\n\\r\\n**Responsibilities:**\\r\\n\\r\\nFull-cycle recruitment process \\r\\nSearching for candidates by using all possible sources (referrals, networking, internal databases, meetups, research, etc.) \\r\\nCoordinating and conducting interviews, writing feedbacks, discussing candidates with decision-makers, evaluate candidates soft skills and find the best culture fit \\r\\nRecruit the most exceptional people  \\r\\nCollaborate with hiring managers \\r\\nConstantly improving recruitment processes \\r\\n\\r\\n**What you get in return:**\\r\\n\\r\\nPossibilities to do what you do best and to develop your skills even further\\r\\nFully **remote** work and **4-day** work week\\r\\n24 working days holiday per year\\r\\nMedical insurance\\r\\nEnglish/ German classes                                                                                                                                                                                                                                                                                                                                                                                                                                                                                                                                                                                                                                                                                                                                                                                                                                                                                                                                                                                                                                                                                                                                                                                                                                                                                                                                                                                                                                                                                                                                                                                                                                                                                                                                                                                                                                                                                                                                                                                                                                                                                                                                                                                                                                                                                                                                                                                                                                                                                                                                                                                                                                                                                                                                                                                                                                                                                                                                                                                                                                                                                                                                                                                                                                                                                                                                                                                                                                                                                                                                                                                                                                                                                                                       1\n",
       "IT Recruiter\\r\\n\\r\\nArrible develops games from the scratch, including in-house game design, architecture and art. Each team member has the opportunity to participate in the creative process! Company's portfolio includes dozens of successfully completed projects from mobile hypercasuals to PC games with custom physics. Arrible Team creates games remotely!\\r\\n\\r\\n🎮REQUIREMENTS:\\r\\n* 1+ year of experience;\\r\\n* You can build processes for finding and hiring employees;\\r\\n* You know how modern sourcing differs from waiting for responses exclusively on job portals;\\r\\n* You can boast of a successful experience in filling interesting vacancies;\\r\\n* Practice structured interviews / competencies;\\r\\n* You have well developed critical thinking and you know how to distinguish socially expected responses from real cases;\\r\\n* You know how to build promising long-term relationships with both customers and candidates;\\r\\n* You want to really influence business development, propose and test new approaches to work, and not be limited to job descriptions.\\r\\n* English - Intermediate\\r\\n\\r\\n🎮RESPONSIBILITIES:\\r\\n\\r\\n* Sourcing: find the best way to source candidates\\r\\n* Screening and interview: identify best candidates for company\\r\\n* Hiring: help Hiring Manager to chose the best\\r\\n* Expand our candidate base\\r\\n* Suggest improvement of the recruiting process\\r\\n\\r\\n\\r\\n🎮YOU’LL GET: \\r\\n💡 Competitive financial rewards;\\r\\n💡 We work exclusively remotely;\\r\\n💡 English lessons;\\r\\n💡 Once a quarter — corporate events in Kiev or Odessa;\\r\\n💡 Another bonus — we do not have time tracking and other micromanagement typical of galleys. All on trust;\\r\\n💡 Every month you have +2 days off. Thus, 24 vacation days are accumulated per year. Spend them whenever you want;\\r\\n💡 Interesting and varied projects: after all, we are an outsourcing company, and we are also a developer and publisher of our own games;\\r\\n💡 Friendly team: we love each other, because thanks to the remote location, there is no chance to get each other, like in the office))))                                                                                                                                                                                                                                                                                                                                                                                                                                                                                                                                                                                                                                                                                                                                                                                                                                                                                                                                                                                                                                                                                                                                                                                                                                                                                                                                                                                                                                                                                                                                                                                                                                                                                                                                                                                                                                                                                                                                                                                                                                                                                                                                                                                                                                                                                                                                                                                                                                                                                                                                                                                                                                                                                                                                                                                                                                                                                                                                                                                                                                                                                                                                                                                                                                                                                                                                                                                                                1\n",
       "We are looking for a talented and brilliant  DevOps Cloud Architect to join our R&D team.\\r\\n \\r\\n**Responsibilities:**\\r\\n\\r\\n- Participate in architecture vision and design of our Infra, CI/CD and cloud platform.\\r\\n- Design best practice solutions and oversee implementation of end-to-end micro-service-based system.\\r\\n- Be a technical authority for DevOps and Infra data pipeline - Design, document, and enforce best practices.\\r\\n- Cultivate relationships with R&D stakeholders and maintain in-depth knowledge of strategic plans.\\r\\n- Define, lead, and execute technology selections and POCs.\\r\\n- Embrace and apply architecture principles, proactively engaging other teams to learn and share, and participating actively in the recruitment and on-boarding of future team members.\\r\\n- Helping streamline work processes with best practice adoption.\\r\\n \\r\\n**Requirements:**\\r\\n- 10+ years of IT/Dev implementation experience. Experience in a customer-facing platforms is plus.\\r\\n- 5+ years of experience in solution Design and software architecture.\\r\\n- Recent hands-on experience in: Linux system administration, automation process of build/deployment, production stability.\\r\\n- In-depth knowledge of Docker, Kubernetes, Terraform and cloud infrastructure (AWS,GCP).\\r\\n- In-depth knowledge of CI/CD concepts and tools (Jenkins, Gitlab CI/CD) etc.\\r\\n- Script languages - Shell / Python / Ruby / Java.\\r\\n- Logging & Monitoring (Grafana, Prometheus, ELK / similar).\\r\\n- Experience driving discussions with senior stakeholders regarding architecture trade-offs, cloud best practices, project management and risk mitigation.\\r\\n- Deep hands-on experience scaling up infrastructure as a code, development and deployment of enterprise-grade software.\\r\\n\\r\\n**We offer:**\\r\\n\\r\\n- Provision of options\\r\\n- Competitive salary\\r\\n- Paid vacation (20 working days) and sick leave\\r\\n- Medical insurance for you, a 75% discount for your relatives\\r\\n- Free lunches\\r\\n- Challenging tasks, cheerful team spirit and a fun office atmosphere\\r\\n \\r\\nIf this sounds like you, send your resume for Devops Cloud Architect and help empower live entertainers and creators to build independent businesses around their live talents.\\r\\n\\r\\n\\r\\n**Обов'язки:**\\r\\n\\r\\n- Брати участь у баченні архітектури та проектуванні нашої Infra, CI/CD та хмарної платформи.\\r\\n- Розробляти передові практичні рішення та контролювати впровадження наскрізної системи на основі мікросервісів.\\r\\n- Будьте технічним авторитетом для конвеєра даних DevOps і Infra – розробляти, документувати та впроваджувати найкращі практики.\\r\\n- Розвивати стосунки зі стейкхолдерами в галузі досліджень і розробок та зберігати глибокі знання стратегічних планів.\\r\\n- Визначати, керувати та виконувати вибір технологій і POC.\\r\\n- Приймати та застосовувати принципи архітектури, активно залучаючи інші команди до навчання та обміну інформацією, а також брати активну участь у наборі та адаптації майбутніх членів команди.\\r\\n- Допомагати в оптимізації робочих процесів із застосуванням передового досвіду.\\r\\n\\r\\n**Вимоги:**\\r\\n\\r\\n- Більше 10 років досвіду впровадження IT/Dev. Досвід роботи з клієнтськими платформами є плюсом.\\r\\n- 5+ років досвіду в розробці рішень та архітектурі програмного забезпечення.\\r\\n- Нещодавній практичний досвід: адміністрування системи Linux, процес автоматизації збірки/розгортання, стабільність виробництва.\\r\\n- Глибокі знання Docker, Kubernetes, Terraform та хмарної інфраструктури (AWS, GCP).\\r\\n- Глибоке знання концепцій та інструментів CI/CD (Jenkins, Gitlab CI/CD) тощо.\\r\\n- Мови скриптів - Shell / Python / Ruby / Java.\\r\\n- Логування та моніторинг (Grafana, Prometheus, ELK / аналогічні).\\r\\n- Досвід обговорень зі стейкхолдерами компромісів архітектури, найкращих практик у хмарі, управління проектами та зменшення ризиків.\\r\\n- Глибокий практичний досвід розширення інфраструктури як коду, розробки та розгортання програмного забезпечення корпоративного рівня.\\r\\n\\r\\n**Ми пропонуємо:**\\r\\n\\r\\n- Надання опціонів\\r\\n- Конкурентна заробітна плата\\r\\n- Оплачувана відпустка (20 робочих днів) та лікарняні\\r\\n- Медичне страхування для вас і знижка 75% для ваших рідних\\r\\n- Безкоштовні обіди\\r\\n- Складні завдання, бадьорий командний дух і весела офісна атмосфера                                                                                                                                                                                                                                                                                                                                                                                                                                                                                                                                                                                                                                                                                                                                                                                                                                                                                                                                                                                                                                                                                                         1\n",
       "Name: count, Length: 141897, dtype: int64"
      ]
     },
     "execution_count": 11,
     "metadata": {},
     "output_type": "execute_result"
    }
   ],
   "source": [
    "#checking the job decription column to find the cleaning procedures\n",
    "df[\"Job_Description\"].value_counts()"
   ]
  },
  {
   "cell_type": "code",
   "execution_count": 12,
   "id": "58dffb51-ef2c-4af6-8005-72baf2cbfc94",
   "metadata": {},
   "outputs": [],
   "source": [
    "#cleaning the job_title colum\n",
    "def clean_job_description(text):\n",
    "    \"\"\"\n",
    "    Cleans raw job description text by removing numbers, symbols, brackets, and non-English characters.\n",
    "    \"\"\"\n",
    "    text = re.sub(r'^[^A-Za-z]+', '', str(text))      # Remove leading numbers/symbols\n",
    "    text = re.sub(r\"(\\*{1,2}|•|✔|#)\", \" \", text)     # Remove markdown symbols and bullets\n",
    "    text = re.sub(r'[\\(\\[].*?[\\)\\]]', '', text)       # Remove content inside () or []\n",
    "    text = re.sub(r'[^A-Za-z0-9\\s\\.-]', '', text)     # Remove non-English chars\n",
    "    text = re.sub(r'\\s+', ' ', text).strip()          # Remove extra spaces\n",
    "    return text\n",
    "    \n",
    "#Applying the clean job_title\n",
    "df[\"Job_Description_Clean\"] = df[\"Job_Description\"].apply(clean_job_description)"
   ]
  },
  {
   "cell_type": "code",
   "execution_count": 13,
   "id": "12300986-e726-400f-be1e-1a67b4538106",
   "metadata": {},
   "outputs": [
    {
     "data": {
      "text/html": [
       "<div>\n",
       "<style scoped>\n",
       "    .dataframe tbody tr th:only-of-type {\n",
       "        vertical-align: middle;\n",
       "    }\n",
       "\n",
       "    .dataframe tbody tr th {\n",
       "        vertical-align: top;\n",
       "    }\n",
       "\n",
       "    .dataframe thead th {\n",
       "        text-align: right;\n",
       "    }\n",
       "</style>\n",
       "<table border=\"1\" class=\"dataframe\">\n",
       "  <thead>\n",
       "    <tr style=\"text-align: right;\">\n",
       "      <th></th>\n",
       "      <th>Job_Title</th>\n",
       "      <th>Job_Description</th>\n",
       "      <th>Job_Title_Clean</th>\n",
       "      <th>Job_Description_Clean</th>\n",
       "    </tr>\n",
       "  </thead>\n",
       "  <tbody>\n",
       "    <tr>\n",
       "      <th>0</th>\n",
       "      <td>10 + Blockchain Nodes / Masternodes to set up</td>\n",
       "      <td>*Requirements*\\r\\n\\r\\nWe're looking for a long...</td>\n",
       "      <td>Blockchain Nodes Masternodes to set up</td>\n",
       "      <td>Requirements Were looking for a long term coll...</td>\n",
       "    </tr>\n",
       "    <tr>\n",
       "      <th>1</th>\n",
       "      <td>10 .NET Developers (Middle and Senior level)</td>\n",
       "      <td>Greetings! My name is Maria, I am in urgent ne...</td>\n",
       "      <td>NET Developers</td>\n",
       "      <td>Greetings My name is Maria I am in urgent need...</td>\n",
       "    </tr>\n",
       "    <tr>\n",
       "      <th>2</th>\n",
       "      <td>10X Engineer (co-founder, #4 employee, USD 11-...</td>\n",
       "      <td>**Product**\\r\\nThe product is a live video cha...</td>\n",
       "      <td>X Engineer</td>\n",
       "      <td>Product The product is a live video chat and c...</td>\n",
       "    </tr>\n",
       "    <tr>\n",
       "      <th>3</th>\n",
       "      <td>16 - Amazon Brand Manager</td>\n",
       "      <td>Currently, TCM expanding its activities to Ukr...</td>\n",
       "      <td>Amazon Brand Manager</td>\n",
       "      <td>Currently TCM expanding its activities to Ukra...</td>\n",
       "    </tr>\n",
       "    <tr>\n",
       "      <th>4</th>\n",
       "      <td>16 - Amazon Brand Manager</td>\n",
       "      <td>Hello,\\r\\nWe, MIMIRB2B, are an outstaff compan...</td>\n",
       "      <td>Amazon Brand Manager</td>\n",
       "      <td>Hello We MIMIRB2B are an outstaff company and ...</td>\n",
       "    </tr>\n",
       "  </tbody>\n",
       "</table>\n",
       "</div>"
      ],
      "text/plain": [
       "                                           Job_Title  \\\n",
       "0      10 + Blockchain Nodes / Masternodes to set up   \n",
       "1       10 .NET Developers (Middle and Senior level)   \n",
       "2  10X Engineer (co-founder, #4 employee, USD 11-...   \n",
       "3                          16 - Amazon Brand Manager   \n",
       "4                          16 - Amazon Brand Manager   \n",
       "\n",
       "                                     Job_Description  \\\n",
       "0  *Requirements*\\r\\n\\r\\nWe're looking for a long...   \n",
       "1  Greetings! My name is Maria, I am in urgent ne...   \n",
       "2  **Product**\\r\\nThe product is a live video cha...   \n",
       "3  Currently, TCM expanding its activities to Ukr...   \n",
       "4  Hello,\\r\\nWe, MIMIRB2B, are an outstaff compan...   \n",
       "\n",
       "                          Job_Title_Clean  \\\n",
       "0  Blockchain Nodes Masternodes to set up   \n",
       "1                          NET Developers   \n",
       "2                              X Engineer   \n",
       "3                    Amazon Brand Manager   \n",
       "4                    Amazon Brand Manager   \n",
       "\n",
       "                               Job_Description_Clean  \n",
       "0  Requirements Were looking for a long term coll...  \n",
       "1  Greetings My name is Maria I am in urgent need...  \n",
       "2  Product The product is a live video chat and c...  \n",
       "3  Currently TCM expanding its activities to Ukra...  \n",
       "4  Hello We MIMIRB2B are an outstaff company and ...  "
      ]
     },
     "execution_count": 13,
     "metadata": {},
     "output_type": "execute_result"
    }
   ],
   "source": [
    "df.head()"
   ]
  },
  {
   "cell_type": "code",
   "execution_count": 14,
   "id": "957e5510-c4c5-47a4-b40d-61da6c8f6f39",
   "metadata": {},
   "outputs": [],
   "source": [
    "# checking compirirng the changes for the both columns\n",
    "# sample = df.sample(20, random_state=42)[[\"Job_Title\", \"Job_Title_Clean\", \"Job_Description\", \"Job_Description_Clean\"]]\n",
    "# print(sample.to_string())"
   ]
  },
  {
   "cell_type": "code",
   "execution_count": 15,
   "id": "d31f0d25-8cce-4d8b-a158-45669c0459db",
   "metadata": {},
   "outputs": [
    {
     "data": {
      "text/html": [
       "<div>\n",
       "<style scoped>\n",
       "    .dataframe tbody tr th:only-of-type {\n",
       "        vertical-align: middle;\n",
       "    }\n",
       "\n",
       "    .dataframe tbody tr th {\n",
       "        vertical-align: top;\n",
       "    }\n",
       "\n",
       "    .dataframe thead th {\n",
       "        text-align: right;\n",
       "    }\n",
       "</style>\n",
       "<table border=\"1\" class=\"dataframe\">\n",
       "  <thead>\n",
       "    <tr style=\"text-align: right;\">\n",
       "      <th></th>\n",
       "      <th>Job_Title</th>\n",
       "      <th>Job_Description</th>\n",
       "      <th>Job_Title_Clean</th>\n",
       "      <th>Job_Description_Clean</th>\n",
       "    </tr>\n",
       "  </thead>\n",
       "  <tbody>\n",
       "    <tr>\n",
       "      <th>0</th>\n",
       "      <td>10 + Blockchain Nodes / Masternodes to set up</td>\n",
       "      <td>*Requirements*\\r\\n\\r\\nWe're looking for a long...</td>\n",
       "      <td>Blockchain Nodes Masternodes to set up</td>\n",
       "      <td>Requirements Were looking for a long term coll...</td>\n",
       "    </tr>\n",
       "    <tr>\n",
       "      <th>1</th>\n",
       "      <td>10 .NET Developers (Middle and Senior level)</td>\n",
       "      <td>Greetings! My name is Maria, I am in urgent ne...</td>\n",
       "      <td>NET Developers</td>\n",
       "      <td>Greetings My name is Maria I am in urgent need...</td>\n",
       "    </tr>\n",
       "    <tr>\n",
       "      <th>2</th>\n",
       "      <td>10X Engineer (co-founder, #4 employee, USD 11-...</td>\n",
       "      <td>**Product**\\r\\nThe product is a live video cha...</td>\n",
       "      <td>X Engineer</td>\n",
       "      <td>Product The product is a live video chat and c...</td>\n",
       "    </tr>\n",
       "    <tr>\n",
       "      <th>3</th>\n",
       "      <td>16 - Amazon Brand Manager</td>\n",
       "      <td>Currently, TCM expanding its activities to Ukr...</td>\n",
       "      <td>Amazon Brand Manager</td>\n",
       "      <td>Currently TCM expanding its activities to Ukra...</td>\n",
       "    </tr>\n",
       "    <tr>\n",
       "      <th>4</th>\n",
       "      <td>16 - Amazon Brand Manager</td>\n",
       "      <td>Hello,\\r\\nWe, MIMIRB2B, are an outstaff compan...</td>\n",
       "      <td>Amazon Brand Manager</td>\n",
       "      <td>Hello We MIMIRB2B are an outstaff company and ...</td>\n",
       "    </tr>\n",
       "  </tbody>\n",
       "</table>\n",
       "</div>"
      ],
      "text/plain": [
       "                                           Job_Title  \\\n",
       "0      10 + Blockchain Nodes / Masternodes to set up   \n",
       "1       10 .NET Developers (Middle and Senior level)   \n",
       "2  10X Engineer (co-founder, #4 employee, USD 11-...   \n",
       "3                          16 - Amazon Brand Manager   \n",
       "4                          16 - Amazon Brand Manager   \n",
       "\n",
       "                                     Job_Description  \\\n",
       "0  *Requirements*\\r\\n\\r\\nWe're looking for a long...   \n",
       "1  Greetings! My name is Maria, I am in urgent ne...   \n",
       "2  **Product**\\r\\nThe product is a live video cha...   \n",
       "3  Currently, TCM expanding its activities to Ukr...   \n",
       "4  Hello,\\r\\nWe, MIMIRB2B, are an outstaff compan...   \n",
       "\n",
       "                          Job_Title_Clean  \\\n",
       "0  Blockchain Nodes Masternodes to set up   \n",
       "1                          NET Developers   \n",
       "2                              X Engineer   \n",
       "3                    Amazon Brand Manager   \n",
       "4                    Amazon Brand Manager   \n",
       "\n",
       "                               Job_Description_Clean  \n",
       "0  Requirements Were looking for a long term coll...  \n",
       "1  Greetings My name is Maria I am in urgent need...  \n",
       "2  Product The product is a live video chat and c...  \n",
       "3  Currently TCM expanding its activities to Ukra...  \n",
       "4  Hello We MIMIRB2B are an outstaff company and ...  "
      ]
     },
     "execution_count": 15,
     "metadata": {},
     "output_type": "execute_result"
    }
   ],
   "source": [
    "df.head()"
   ]
  },
  {
   "cell_type": "code",
   "execution_count": 16,
   "id": "0f88583f-6943-4260-bd5f-251ebd914168",
   "metadata": {},
   "outputs": [],
   "source": [
    "#Droping the unwanted features in our dataframe\n",
    "df =df.drop([\"Job_Title\", \"Job_Description\"], axis=1)"
   ]
  },
  {
   "cell_type": "code",
   "execution_count": 17,
   "id": "92fbcda7-1ab3-4620-a198-bd000e837c4d",
   "metadata": {},
   "outputs": [],
   "source": [
    "#Rename the columns to match project needs\n",
    "df = df.rename(columns={\n",
    "    'Job_Title_Clean': 'Job_Title',\n",
    "    'Job_Description_Clean': 'Job_Description'\n",
    "})"
   ]
  },
  {
   "cell_type": "code",
   "execution_count": 18,
   "id": "4046e131-f114-40ad-82e7-6287f5d602f1",
   "metadata": {},
   "outputs": [
    {
     "data": {
      "text/html": [
       "<div>\n",
       "<style scoped>\n",
       "    .dataframe tbody tr th:only-of-type {\n",
       "        vertical-align: middle;\n",
       "    }\n",
       "\n",
       "    .dataframe tbody tr th {\n",
       "        vertical-align: top;\n",
       "    }\n",
       "\n",
       "    .dataframe thead th {\n",
       "        text-align: right;\n",
       "    }\n",
       "</style>\n",
       "<table border=\"1\" class=\"dataframe\">\n",
       "  <thead>\n",
       "    <tr style=\"text-align: right;\">\n",
       "      <th></th>\n",
       "      <th>Job_Title</th>\n",
       "      <th>Job_Description</th>\n",
       "    </tr>\n",
       "  </thead>\n",
       "  <tbody>\n",
       "    <tr>\n",
       "      <th>0</th>\n",
       "      <td>Blockchain Nodes Masternodes to set up</td>\n",
       "      <td>Requirements Were looking for a long term coll...</td>\n",
       "    </tr>\n",
       "    <tr>\n",
       "      <th>1</th>\n",
       "      <td>NET Developers</td>\n",
       "      <td>Greetings My name is Maria I am in urgent need...</td>\n",
       "    </tr>\n",
       "    <tr>\n",
       "      <th>2</th>\n",
       "      <td>X Engineer</td>\n",
       "      <td>Product The product is a live video chat and c...</td>\n",
       "    </tr>\n",
       "    <tr>\n",
       "      <th>3</th>\n",
       "      <td>Amazon Brand Manager</td>\n",
       "      <td>Currently TCM expanding its activities to Ukra...</td>\n",
       "    </tr>\n",
       "    <tr>\n",
       "      <th>4</th>\n",
       "      <td>Amazon Brand Manager</td>\n",
       "      <td>Hello We MIMIRB2B are an outstaff company and ...</td>\n",
       "    </tr>\n",
       "  </tbody>\n",
       "</table>\n",
       "</div>"
      ],
      "text/plain": [
       "                                Job_Title  \\\n",
       "0  Blockchain Nodes Masternodes to set up   \n",
       "1                          NET Developers   \n",
       "2                              X Engineer   \n",
       "3                    Amazon Brand Manager   \n",
       "4                    Amazon Brand Manager   \n",
       "\n",
       "                                     Job_Description  \n",
       "0  Requirements Were looking for a long term coll...  \n",
       "1  Greetings My name is Maria I am in urgent need...  \n",
       "2  Product The product is a live video chat and c...  \n",
       "3  Currently TCM expanding its activities to Ukra...  \n",
       "4  Hello We MIMIRB2B are an outstaff company and ...  "
      ]
     },
     "execution_count": 18,
     "metadata": {},
     "output_type": "execute_result"
    }
   ],
   "source": [
    "df.head()"
   ]
  },
  {
   "cell_type": "code",
   "execution_count": 19,
   "id": "409eb4b1-9c3a-4100-9e7d-1186281d2155",
   "metadata": {},
   "outputs": [
    {
     "name": "stdout",
     "output_type": "stream",
     "text": [
      "Empty job titles: 26\n"
     ]
    }
   ],
   "source": [
    "# Count rows with empty strings in Job_Title\n",
    "empty_titles = (df['Job_Title'].str.strip() == \"\").sum()\n",
    "print(\"Empty job titles:\", empty_titles)"
   ]
  },
  {
   "cell_type": "code",
   "execution_count": 20,
   "id": "d6729040-820b-4f76-a3e3-6e97cc5c6909",
   "metadata": {},
   "outputs": [],
   "source": [
    "# Remove rows where Job_Title is empty of just spaces\n",
    "df = df[df['Job_Title'].str.strip() != \"\"]\n",
    "\n",
    "# Reset index\n",
    "df = df.reset_index(drop=True)"
   ]
  },
  {
   "cell_type": "code",
   "execution_count": 21,
   "id": "28071231-7d9e-4e98-91c6-cfcc41cf72d3",
   "metadata": {},
   "outputs": [
    {
     "name": "stdout",
     "output_type": "stream",
     "text": [
      "Empty job titles after the changes: 0\n"
     ]
    }
   ],
   "source": [
    "# Count rows with empty strings in Job_Title after effecting the changes\n",
    "empty_titles = (df['Job_Title'].str.strip() == \"\").sum()\n",
    "print(\"Empty job titles after the changes:\", empty_titles)"
   ]
  },
  {
   "cell_type": "code",
   "execution_count": 22,
   "id": "532e3bba-7332-4f74-8cce-c67b0217713e",
   "metadata": {},
   "outputs": [],
   "source": [
    "df2=df"
   ]
  },
  {
   "cell_type": "markdown",
   "id": "7ac6325e-8a46-4f9a-97e8-4af3571b502e",
   "metadata": {},
   "source": [
    "## Preprocessing text step\n",
    "**• Convert to lowercase.**\n",
    "\n",
    "**• Remove punctuation, numbers, and stopwords.**\n",
    "\n",
    "**• (Optional) Lemmatization using NLTK or SpaCy**"
   ]
  },
  {
   "cell_type": "code",
   "execution_count": 23,
   "id": "91ac16bf-c94a-4505-a3e0-7dc7b1e12eb6",
   "metadata": {},
   "outputs": [
    {
     "name": "stdout",
     "output_type": "stream",
     "text": [
      "                                                                        Job_Title                                                                                                                                                                                                                                                                                                                                                                                                                                                                                                                                                                                                                                                                                                                                                                                                                                                                                                                                                                                                                                                                                                                                                                                                                                                                                                                                                                                                                                                                                                                                                                                                                                                                                                                                                                                                                                                                                                                                                                                                                                                                                                                                                                                                                                                                                                                                                                                                                                                                                                                                                                                                                                                                                                                                                                                                                                                                                                                                                                                                                                                                                                                                                                                                                                                                                                                                                                                                                                                                                                                Job_Description\n",
      "41124                                                            Graphic designer                                                                                                                                                                                                                                                                                                                                                                                                                                                                                                                                                                                                                                                                                                                                                                                                                                                                                                                                                                                                                                                                                                                                                                                                                                                                                                                                                                                                                                                                                                                                                                                                                                                                                                                                                                                                                                                                                                                                                                                                                                                                                                                                                                                                                                                                                                                                                                                                                                                                                                                                                                                                                                                                             Job responsibilities - take the design brief to record requirements and clients needs - work with a wide range of media and use graphic design software - think creatively and develop new design concepts graphics and layouts - prepare rough drafts and present your ideas - collaborate with a team of Developers and Marketing for making the content better - stay up to date on emerging technologies Required qualifications - proven graphic designing experience - Bachelors degree in art graphic design and other relevant fields. - possession of creative flair versatility conceptualvisual ability and originality - demonstrable graphic design skills with a strong portfolio - ability to interact communicate and present ideas - up to date with industry-leading software and technologies - fluency in English and Russian.\n",
      "28978                                                            Engineering Lead  We are looking for a strong and mature Engineering Lead with expertise in creating solution designs and large-scale architecture to join our Data Engineering team. In this role you will take charge of the team as well Back-end part of the solution. You will be a part of the HUMAN front line in our commitment to helping protect companies from both revenue and reputation risk caused by malicious bots. CUSTOMER Humansecurity.com is the global leader in bot mitigation. Our client protects over 200 enterprises including the largest internet platforms from sophisticated bots by verifying the humanity of nearly one trillion online interactions weekly. The most sophisticated bots look and act like humans when they click on ads visit websites fill out forms take over accounts and commit payment fraud. HUMAN platform stops them. PROJECT As an Engineering Lead you will need to take care of multiple components that are currently part of our solution written in Golang Python and Scala. In this role you will lead the whole feature lifecycle development cooperating with other Leads and a Product Owner. Our Technologies stack Python Scala Golang Clickhouse Trino Spark Firestore MongoDB ES Jenkins GCP Azure AWS and more. RESPONSIBILITIES - Coordinating the team to deliver reliable solutions data and models as well as prioritizing tasks to minimize time to value - Contributing to new technologies investigations and complex solutions design - Coming up with well-designed technical solutions and robust code - Working across diverse Product Management Software and DevOps teams to ensure that the whole solution meets requirements - Taking responsibility for delivering major features - Participating in requirements gathering and clarifying process - Developing core modules and functions - Performing code reviews writing unit and integration tests - Utilizing best engineering practices - Standing up for high-quality solutions and bringing new ideas to life - Taking part in technical discussions listening to arguments and applying critical thinking REQUIREMENTS - 10 years of development experience with Python Scala and Golang contributing into the Data Platform and internal solutions - At least 5 years as a Team LeadTech Lead managing a team of 5 engineers combining with architectural decisions and solutions implementation - Experience in creating solution designs and large-scale architecture balancing between various types of constraints - Solid knowledge of SQL and deep understanding of RDBMS technologies - Solid practical experience in using algorithms and data structures - Experience developing data pipelines based on one of mainstream frameworks such as Apache Spark MapReduce Apache Flink etc. - Experience with developing data lakes and data warehouses based on one of mainstream technologies such as Hive Snowflake Hudi etc. - Experience in using tools such as Presto and similar ones - Solid understanding of technical excellence and hands-on experience with code reviews test development and CICD - Experience with GCP and AWS clouds - Experience in proposals and write-ups with a proven ability to determine pros and cons - Advanced level of English WILL BE A PLUS - Experience with the AdTech domain PERSONAL PROFILE - Ability to take responsibility for technical and engineering decisions on the project - Excellent communication and presentation skills\n",
      "4155                                                        Apache Kafka Engineer                                                                                                                                                                                                                                                                                                                                                                                                                                                                                                                                                                                                                                                                                                                                                                                                                                                                                                                                                                                                                                                                                                                                   Our unit is responsible for innovations and operations of the group platforms for event streaming and data warehousing. These platforms are essential data ecosystem platforms for the data driven vision of our bank. You will have a strong CEE focus and interaction with clients in 13 countries as well as several branches. Project stack Apache KafkaConfluent AWS Java RestAPI SQL. This is what your typical day would look like Setup and operations of Kafka Cluster managed on-premise andor in cloud-based environments Definition of topics using Schema Registry Implementation of custom Kafka consumers Configuration of topics producers consumers Implement stream processing using KSQL Maintaining Kafka security and encryption Your essential qualities You have at least 2 years of experience in the Kafka operated environments - preferable in financial services industry and 5 year of Kafka experience You are familiar with SQL and NoSQL database systems You can show strong knowledge of tools for containerization You have mastered knowledge of Java REST APIs micro services message bus technologies You have knowledge in CICD DevOps best practices and tools You understand how to work in an agile environment You like working in a team and understand how important communication is You understand write and speak English well because we communicate with international colleagues every day You have strong analytical skills able to analyze and design complex data flows and business processes What you might like about us Motivated team in one of the leading banking groups in Austria and Central and Eastern Europe Strong support from an international banking technology team Competitive Salary twice a month English courses Long-term official employment sustainable and stable working environment Paid sick leave and vacation Medical insurance Access to professional development programs Comfortable work conditions Possibility of remote work Our selection process includes CV pre-screening and short call with Olga or Alina Online interview with Delivery Manager and the team in Vienna in English Background security check running in parallel Prompt feedback after every stage and a short summary of next steps If you are interested in this opportunity please apply now. We are excited to meet you\n",
      "121168                                                   Senior Node.js Developer                                                                                                                                                                                                                                                                                                                                                                                                                                                                                                                                                                                                                                                                                                                                                                                                                                                                                                                                                                                                                                                                                                                                                                                                                                                                                                                                                                                                                                                                                                                                                                                                                                                                                                                                                                                                                                                                                                                                                                                                                                                                                                                                                                                                                                                                                                                                                                                                                There is a lot going on in this e-commerce project and we would like a really experienced Node.js developer to join it on a long-term basis Required skills Node.js TypeScript Nest.js TDD or at least must meet the philosophies that we test the code Clean Architecture Hexagonal architecture modular monolith Docker Required but we allow learning Write-model read-model AWS Document DB. MongoDB 4.0 AWS Elastic Banstalk Terraform Nice-to-have React Semaphore CICD General experience in AWS Sendgrid Stripe for marketplaces understanding how taxes work in the USA Swagger From when February 2023 We offer Work in a multinational team and great domen of new experience This is a 100 remote job or on-sight in our offices during CET office hours Feel empowered with a friendly team open-door policy informal atmosphere within the company and regular team-building events The ability to focus on your work a lack of bureaucracy and micromanagement and convenient corporate services A perfect environment for learning and self-development with allowance for educational material\n",
      "63786                                                         ManualAutomation QA                                                                                                                                                                                                                                                                                                                                                                                                                                                                                                                                                                                                                                                                                                                                                                                                                                                                                                                                                                                                                                                                                                                                                                                                                                                                                                                                                                                                                                                                                                                                                                                                                                                                                                                                                                                                                                                                                                                                                                                                                                                                                                                                                                                                                                                                                                                                                                                                                                                                                                                                                                                                                                                 What Youll Do Develop test plans scripts and reports of multiple projects of varying size Validate and test a wide variety of technologies and platforms Verify that real-world use cases and user expectations are simulated and met during the validation process Be the guardian of our outstanding customer experience Who You Are Professional with more than 5 years of experience Able to create test plans define testing strategies and get a kick out of uncovering these hard-to-find bugs Ability to read logs and code errors Experience with automatic testing tools Python knowledge advantage Jira Xray experience big advantage Excellent communicator with good ability to work collaboratively with other departments Fast learner with good ability to work independently Ability to mentor junior QA engineers Excited by and passionate about technology\n",
      "133163  Strong MiddleSenior Python Web Developer for an energy efficiency project                                                                                                                                                                                                                                                                                                                                                                                                                                                                                                                                                                                                                                                                                                                                                                                                                                                                                                                                                                                                                                                                                                                                                                                                                                                                                                                                                                                                                                                                                                                                                                                                                                                                                                                                                                                                                                                                                                                                                                                                                                                                                                                                                                                                                                                                                                                                                                                                                                                                                       Project description We are working on a progressive project the purpose of which is to increase energy efficiency in industrial and commercial facilities. Our product is an intuitive web interface based on machine learning algorithms that analyze energy consumption data and offer optimal solutions for saving energy. Responsibilities Development and optimization of the web interface of our product. Design and implementation of new functions and services. Working with data including collection processing and analysis. Integration with external APIs and services. Writing automated tests and maintaining code quality. Required Experience Skills and Aspects Experience with Python and web development frameworks for at least 3 years. Knowledge of SQL and experience with relational databases. Experience with JavaScript HTML CSS. Understanding how REST APIs work. Knowledge and understanding of web application security principles and practices. Experience with version control systems such as Git.\n",
      "65962                                                        Marketing Specialist                                                                                                                                                                                                                                                                                                                                                                                                                                                                                                                                                                                                                                                                                                                                                                                                                                                                                                                                                                                                                                                                                                                                                                                                                                       Job Description Enterprising open ambitious proactive positive thinker fast learner willing to go beyond standard duties and grow professionally 2-5 years of communications or related experience in a technical or business environment Fluent in English and Ukrainian Expert writer in internal and employee communications that are engaging and informative Basic technical vocabulary preferred Experience in brand building activities Good understanding of project management principles data metrics familiarity and analytical skills Skilled at managing multiple projects simultaneously Strong interpersonal skills and ability to work well with individuals at all professional levels Highly collaborative team player comfortable with change and evolving communications landscape Intranet andor internal platform experience Basic photo and video shooting skills Skilled in Google Apps and general computer systems. Job Responsibilities Take part in strategic development of Employer Brand Employer Value Proposition of GlobalLogic Ukraine. Take part in strategic planning and development of the companys internal communications instruments and culture of their efficient use. Proofreading and copywriting of all texts for internal communications. Initiate conduct provide reports and analysis of internal surveys of target audiences and communication channels both independently and with external contractors. Initiate plan create conduct provide reports and analytics on company-wide and Region-based internal communication campaigns. Maintain analyze and develop existing and new communication channels to ensure maximum efficiency of internal communications. Manage internal content hub and ensure proper and efficient distribution and recycling of content internally its connection to external communication channels when this is applicable. Carry out the full cycle of production and distribution of content for regular internal communication channels like e-mail newsletter in-office digital screens internal social media platforms and groups. Provide communication support for internal events and all kinds of internal initiatives. Manage full-cycle of production of seasonaltailored communication.\n",
      "85700                                                           Node.js Developer                                                                                                                                                                                                                                                                                                                                                                                                                                                                                                                                                                                                                                                                                                                                                                                                                                                                                                                                                                                                                                                                                                                                                                                                                                                                                                                                                                                                                                                                                                                                                                                                                                                                                                                                                                                                                                                                                           Responsibilities - 1-2 years of commercial experience in web backend development applying node.js - advanced skills in JavaScript - previous experience with SQL databases and NoSQL databases - experience with integration and unit testing - understanding of SOLID and DRY principles - intermediate English . Nice to have - experience with ORM Sequelize Prisma TypeORM Bookshelf Objection.js - understanding of Docker containers previous experience with Swagger and Socket.io. What we offer - knowledge-sharing activities - development of tech and soft skills - paid 24 days of vacations and 20 sick leaves per year - paid participation in conferences and hackathons - corporate English classes - sport compensation - Covid-19 compensation - bright team buildings and corporate events. Plexteq We are a fast growing IT company located in Vinnytsia. Our main domains include enterprise highly loaded applications mobile and web-applications . We also have extensive experience and expertise in business intelligence processing massive data amounts and data mining in particular. Our team is following ISO 9001 and CMMI v3 guidelines to make process of software development cleaner and more clear to our customers. We use Scrum process for project management often use open-source technologies. Plexteq philosophy is based on self-improvement and professional development as this is the best what makes specialists truly happy and motivated. As a company we look for unique projects with interesting not trivial tasks. Join us and explore what its like to be a part of Plexteq\n",
      "93987                                                            Python Developer                                                                                                                                                                                                                                                                                                                                                                                                                                                                                                                                                                                                                                                                                                                                                                                                                                                                                                                                                                                                                                                                                                                                                                                                                                                                                                                                                                                                                                                                                                                                                                                                                                                                                                                                                                                                                                            About the role In this role you will engineer and develop the backend that will serve 10s of millions of users. There is no legacy codebase which means you dont need to suffer from old poorly-written code you need to write clean code from scratch. As one of the first engineers in the company you will be responsible for ensuring the code style is implemented consistently across the codebase right from the start. Keeping the code modular and easy to read is one of the top priorities. At the same time as a growing start-up we are moving at a fast pace so you need to be agile and focus on delivering software that does the job first and then improve it step by step. You will work directly with the founding team. Responsibilities Develop backend in Python Deliver efficient code that does the job first and iteratively improve it later Adhere to code guidelines and keep co-workers accountable for it as well Ship code that is easy to read maintain and debug Be on top of all most recent code practices libraries and frameworks and push the team to use better tools Conduct thoughtful code reviews for your team members Basic qualifications 3 years of Python experience 5 years of software engineering experience Proficiency in unitintegration testing Good understanding of how to implement useful logging Understanding of code complexity measurements and why it is important The skill of documenting your own code You iterate quickly with short feedback loops Youre comfortable with change and ambiguity and thrive working autonomously English level - Intermediate or higher Experienced using self-improvement apps\n",
      "10670                                                            Business analyst                                                                                                                                                                                                                                                                                                                                                                                                                                                                                                                                                                                                                                                                                                                                                                                                                                                                                                                                                                                                                                                                                                                                                                                                                                                                                                                                                                                                                                                                                           Our client is a global e-commerce agency. It is a leading developer of Magento OpenSource and Adobe Commerce solutions. Now the company is looking for Business analytics to join its team. About company Magento partners since 2011 34 projects done in 2021 About team The company employs more than 70 professionals. More than 90 Magento Expert Level Certifications Requirements 2 years experience in Business Analysis within an international IT company Knowledge of e-Commerce domain Experience with JIRA issue project tracking software Experience with wireframing tools Experience in Agile methodologies Advanced English communication both verbal and written High-level communication skills for both technical and non-technical audiences Ability to work in a fast-paced environment Experience with Magento 2 projects Experience with Google Analytics Responsibilities Effectively communicate with distributed team members including executives managers and subject matter experts Work with stakeholders and engineering teams on gathering prioritizing and further decomposition of requirements Work with stakeholders on defining the product roadmap and support for PM with business value growth Support for PM with developing and maintaining the project backlog Conduct backlog grooming and estimations sessions Create features user stories use cases flow charts wireframes diagrams mind maps etc Work with the UX team to prepare prototypes and validate them against the requirements Organize grooming and meetings with stakeholders Conduct demos for stakeholders The company offers 40-hour workweek. Transparent system for salary improvements Possibility to work remotely from any place Paid time off Flexible schedule Company-paid certifications and help in the preparation By sending your feedback or resume for this vacancy you give your consent to the A-HR company to process store and transfer to third parties your personal data provided by this action.\n",
      "76046                                                          Middle QA Engineer                                                                                                                                                                                                                                                                                                                                                                                                                                                                                                                                                                                                                                                                                                                                                                                                                                                                                                                                                                                                                                                                                                                                                                                                                                                                                                                                                                                                                                                                                                                                                                                                                                                                                                                                                                                                                                                                                                                                                                                                                                                                                                                                                                                                                                                                                                                                                                                                                                                                                                                                                                                                                                                                                                                                                                                                                                                                                                       Technical skills QA PostmanKatalon Jira Confluence HTML CSS Manual Testing Web Testing Regression Testing Mobile testing Functional testing Creating Testing Documentation Bug Reporting Scrum SQL Also must have work experience QA Engineer 2-3 years. Responsibility Full-time work remote Jira issue tracking Daily reports Personal responsibility and delivery of assigned tasks in the agreed time Estimation of tasks Following a development plan Following company development processes Communication with the team project manager and other stakeholders Personal public GIT with own real projects samples\n",
      "140877                                      Web Frontend Developer BulgariaPoland                                                                                                                                                                                                                                                                                                                                                                                                                                                                                                                                                                                                                                                                                                                                                                                                                                                                                                                                                                                                                                                                                                                                                                                                                                                                                                                                                                                                                                                                                                                                                                                                                                                                                                                                                                                                                                                                                                                                                                                                                                                                                                                                                                                                                                                                                                                                                                                                                                                                                                                                                                            Areas of Responsibility Be Yourself. Be Open. Stay Hungry and Humble. Collaborate. Challenge. Decide and just Do. This is the kind of behaviour youll need for success at Logitech. In this role you will Be part of a scrum team Deliver features for end users Work on new Logitech products Add features to an existing application used by millions of users Work with modern tools Contribute to improve the way we work Collaborate with teams in India and Switzerland Participate in the various phases of the development cycle analysis design planning documentation etc. Qualifications Strong JavaScript TypeScript and ReactJS skills Experience with calling RESTful APIs Analytical skills Good collaboration and communication skills Responsibility accountability problem-solving attitude Attention to detail Fluent English language skills Will be an advantage Experience writing unit tests Familiarity with CICD practices\n",
      "19934                                                                Data Analyst                                                                                                                                                                                                                                                                                                                                                                                                                                                                                                                                                                                                                                                                                                                                                                                                                                                                                                                                                                                                                                                                                                                                                                                                                                                                                                                                                                                                                                                                                                                                                                                                                                                                                                                                                                                                                                                                                                                                                                                                                                                                                                                                                                                                                                                                                                                                                                                                                                                                                                                                                                                                                                                                                                                                                                                                                                                                                                                                                                                                                                                                                                                                                                  Musts - Excel. - English. - Analytical sence. - Communication Skills. . - Availability. Responsibility - Calculations for clients and Affiliates balances Daily Weekly. - Tracking Banks growth. - Billing clients. - Filling Data and balances based on rules. - Attending Company online calls. Advantage - Experience with SQL - Russian speaking. - Code.\n",
      "42067                                                       Head of HR Operations                                                                                                                                                                                                                                                                                                                                                                                                                                                                                                                                                                                                                                                                                                                                                                                                                                                                                                                                                                                                                                                                                          Requirements - Experience in US market will be advantage - 5 experience on relevant position in IT company. - Excellent knowledge and understanding of regulations accepted professional standards policies procedures and legislation . - Experience performing HR functions at organizations with geographically distributed teams spanning the EU and US. - Working experience spanning various HR disciplines including rewards and recognition employee welfare LD etc. - Excellent understanding of the regulatory landscape professional standards procedures and legislation within relevant geographies. - Working knowledge of all HR departmental areas including reward and recognition welfare learning and development as well as HR systems and budgets. - Proven leadership experience in team managing. - The ability to develop and nurture relationships across the teams. - The confidence to provide sound professional advice. - The ability to lead the development of effective employee relation policies. - The ability to analyze and review HR data to identify trends. - Coaching leaders on people management. Responsibilities - Developing and implementing human resources policies and processes - Employee handbook - doc for internal use by employees about the company Culture Mission Values and what the company does how to manage salary vacations etc. . - Playbook implementation - all about the company for internal use by Executives. - Developing internal corporate culture - Supporting strategic objectives - Hiring staff and negotiating employment agreements - Managing and career progression and performance reviews - Maintaining staff records - Handling employee benefits - Managing staff wellness - Identifying staffing needs and creating job descriptions for C-level - Designing and directing training programs - Advise and strategize on the development of effective employment policies across the company - Ensure that the company complies with current regulations accepted professional standards policies and procedures and legislation . - Brand building of the Company - Promote develop and nurture relationships across departments and teams. Benefits - Possibility to grow within a multicultural work environment with a flat structure and direct informal communication - Flexible working environment - Remote work - 4 working days week\n",
      "102509                                    Salesforce Commerce Cloud Engineer EPAM                                                                                                                                                                                                                                                                                                                                                                                                                                                                                                                                                                                                                                                                                                                                                                                                                                                                                                                                                                                                                                                                                                                                                                                                                                                                                                                                                                                                                                                                                                                                                                                                                                                                                                                                                                                                                                                                                                                                                                                                                                                                                                                                                                                                                                                                                                                                                                                                                                                                                                                                                                                                                                        REQUIREMENTS 3 years of experience in web development 2 years of proven development experience in SFCC Experience with technologies and libraries JavaScript AngularJS JS Unit Testing Libraries etc Good understanding of object-oriented programming relational databases Understanding of E-commerce principles and business processes Experience and understanding of Agile software development and the Software Development Excellent communication skills Problem-solving skills and strong decision-making skills Intermediate or higher English level both spoken and written WE OFFER Competitive compensation depending on experience and skills Individual career path Unlimited access to LinkedIn learning solutions Social package - medical insurance sports Compensation for sick lists and regular vacations English classes with native speakers Flexible work hours\n",
      "25347                                                             DevOps Engineer                                                                                                                                                                                                                                                                                                                                                                                                                                                                                                                                                                                                                                                                                                                                                                                                                                                                                                                                                                                                                                                                                                                                                                                                                                                                                                                                                                                                                                                                                                                                                                                                                                                                                                                                                                                                                                                                                                                                                                                                                   The projects and positions encompasses performing all phases of DevOps i.e. service development up to and including deployment to production as well as doing daily operations tasks and supporting end users. You will be involved in development of CICD solutions Containerization Cloud solutions or operations and support depending of your knowledge and preferences. The candidate must have the ability to work in an agile environment where priorities can change from day to day and be a team player. We value accountability flexibility complex problem solving abilities and a sense of urgency in completing the required system administration tasks and providing efficient customer support Requirements Support and configuration of LinuxUnix servers Experience in using Docker Kubernetes Helm Experience in using Cloud services Good knowledge of scripting Experience in using autoconfiguration system Understanding of CICD and product life-cycle principles Source code management tools Basic knowledge of Data Bases Understanding Monitoring principles Intermediate or higher level of English We offer Stable full-time and long-term employment Healthy work-life balance and friendly caring atmosphere Career professional development possibilities Good benefits package Cozy officeand possibility to work remotely Team and company events. If you are temporary abroad due to the war you can continue work for our legal entity in Ukraine or be employed in EU\n",
      "132096                                        Strategic Alliance Executive Wildix                                                                                                                                                                                                                                                                                                                                                                                                                                                                                                                                                                                                                                                                                                                                                                                                                                                                                                                                                                                                                                                                                                                                                                                                                                                                                                                                                                                                                                                                                                                                                                                                                                                                                                                                                                                                                                                                                                                                                                                                                                                                                                                                                                                                                                                                                                                                       Wildix is a multinational company operating in the telecommunications industry with the headquarters in Italy branch offices in France Germany the Netherlands and its own RD center in Ukraine due to its expansion to the USA is looking for a strategic alliance executive. Professional skills At least 5 years experience in strategic alliance partnerships or Sales Advanced PC user Experience in CRM applications Very High level of English language sales skills are the 2 key points Personal skills Excellent communication skills strong analytical skills Team player with high level of dedication and commitment Quick learner eager to learn new technologies and products Job Description The alliance executive will work with the alliance manager and the alliance team to create alliances with IT companies that sell products integrable with the Wildix Solution. Via Co-marketing activities the Alliance team will create a long term partnership with those companies to increase the number of Wildix Resellers and the number of end-customers sales. The candidate will work with the Wildix marketing team and in collaboration with the RD Department.\n",
      "14667                                                     Chief Marketing Officer                                                                                                                                                                                                                                                                                                                       Requirements for the position 1 years of marketing experience in management role preferably in IT company Experience in planning managing and executing multi-segment marketing strategies Experience in forecasting calculating and assessing economic efficiency of marketing activities Experience with managing individuals or teams defining KPIs overseeing activities and results Exceptional knowledge of current marketing techniques processes tools platforms and approaches Knowledge of IT market specifically the Northern American Australian and European regions is a plus Excellent organizational leadership analytical and time management skills Fluent English professional presence and good interpersonal skills Who you are We are looking for an individual who will play an integral role in company growth and development contribute to strategic decisions and work closely with sales and development to achieve high-level objectives. You are highly analytical and creative use your knowledge to conceptualize and create new solutions and constantly self-educate to stay ahead of the curve. You are looking for a long-term job where your personal professional development will be aligned with the team goals and where you will have the opportunity to direct and shape the marketing strategy. Benefits We offer a number of benefits for the team members to improve their quality of life and help with achieving professional development goals. The benefits include full or partial compensation for attending professional events workshops and conferences English lessons with native speakers from the UK and U.S. and other specialized professional development activities plus we offer free parking gym membership or taxi services hold weekly pizza Fridays and occasional team retreats on weekends Your areas of responsibility Define and manage a comprehensive marketing strategy to meet company growth objectives Support company operation by generating leads facilitating B2B sales and managing the brand Conduct thorough analysis of marketing economic efficiency and develop cost-effective solutions Create an efficient marketing team hire and coach team members plan team operations set KPIs Coordinate with the sales development and client satisfaction teams to ensure a unified approach Create and present the annual marketing plan and strategy keep the marketing budget in check Ultimately contribute to the overall growth of the company Who we are We are a software development company that creates custom web mobile and big data products. We provide full-cycle development services including research and prototyping design and implementation testing and optimization deployment and maintenance. We have proven expertise and more than 10 years of experience in creating software products for Health Care Fintech Retail and Social Networking. Our clients value us for individually-tailored service deep focus on their success and exceptional quality of the results. If you think this position might be perfect for you please sent your CV Looking forward to hearing from you soon\n",
      "140298                                              VR Unity 3D Software Engineer                                                                                                                                                                                                                                                                                                                                                                                                                                                                                                                                                                                                                                                                                                                                                                                                                                                                                                                                                                                                                                                                                                                                                                                                                                                                                                                                                                                                                                                                                                                                                                                                                                                                                                                                                                                                                                                                                                                                                                                                                                                                                                                                                                                                                                                                                                                                  Join our team and create value with us We are the VR team with a big hairy audacious goal of conquering the world with our imagination Some of our products are PandaMR VR Boxing VR Casino VR Live Dealer. We need you to help us bring into reality our life-altering ideas creating software of global competence. Duties Responsibilities Create software in Unity 3D Implement VR user interface and interactive mechanics Translate user stories into technical issues Define architecture for designed features and mechanics Research and provide feedback with suggestions on how to improve performance quality and delivery within organizational standards and best practices Understand the communication frontend and backend Write documentation of key algorithms and interfaces Skills Abilities Ability to work in an agile environment Ability to collaborate closely with teammates High working ethics Strong problem solving and decision-making skills Troubleshooting and diagnosing problems Required Qualifications At least 2 years of experience with Unity 3D game development Proficiency in C scripting The knowledge of Zenject or socket.io is an advantage.\n",
      "140054                                               Vesttoo - Back-End Developer                                                                                                                                                                                                                                                                                                                                                                                                                                                                                                                                                                                                                                                                                                                                                                                                                                                                                                                                                                                                                                                                                                                                                                                                                                                                                                                                                                                                                                                                                                                                                                                                                                              On behalf of Vesttoo SD Solutions is looking for a Back-End Developer to manage a team of talented engineers SD Solutions is a staffing company operating globally. Contact us to get more details about the benefits we offer. Responsibilities Design and implement core features . Build infrastructure. Find innovative solutions while working with cutting-edge technologies . Requirements Experience with Microservices implementation including APIs. Experience writing high-quality testable and reusable code under a source control environment. Understanding of DevOps processes. Experience working with Databases. Lead tasks. 5 years of programming experience in Node.js or equivalent. B.Sc. degree in Computer Sciencerelated field or equivalent experience. Experience in cloud environments . Ability to design research and implement large and complex architectures. Deep understanding of best practices in scalable server-side architecture. Self-starter and can learn new technology and tools quickly. Advantages Experience with cloud architecture. Experience with JavaScript and web APIs. Experience working in a startup company. Experience with GIT. About the company Vesttoo is the worlds first marketplace for non-catastrophe insurance-based risk transfer and investments. Our proprietary AI-based technology facilitates risk transfer between insurance companies and institutional investors providing insurance-linked investments to asset managers of all types while enhancing risk transfer and liquidity in the Life and PC insurance markets. We are building a marketplace platform that facilitates risk transfer to the capital markets with a faster time to market. Our work is done in a web environment using the microservices methodology. We are working with Node.js Python Kubernetes AWS React and more.\n"
     ]
    }
   ],
   "source": [
    "sample = df2.sample(20, random_state=42)[[\"Job_Title\", \"Job_Description\"]]\n",
    "print(sample.to_string())"
   ]
  },
  {
   "cell_type": "code",
   "execution_count": 24,
   "id": "170f5854-239f-42e8-b708-c0bbfe6d38aa",
   "metadata": {
    "scrolled": true
   },
   "outputs": [],
   "source": [
    "import re\n",
    "import string\n",
    "from nltk.tokenize import word_tokenize\n",
    "from nltk.corpus import stopwords\n",
    "from nltk.stem import WordNetLemmatizer\n",
    "\n",
    "\n",
    "def clean_text(text):\n",
    "    \"\"\"\n",
    "    Cleans input text for NLP tasks by:\n",
    "    1. Converting text to lowercase\n",
    "    2. Removing punctuation and numbers\n",
    "    3. Tokenizing into words\n",
    "    4. Removing stopwords\n",
    "    5. Applying lemmatization\n",
    "    6. Put everything back into single cleaned string\n",
    "    \"\"\"\n",
    "\n",
    "    # ---------- Step 1: Lowercase ----------\n",
    "    text = text.lower()\n",
    "\n",
    "    # ---------- Step 2: Remove punctuation & numbers ----------\n",
    "    text = re.sub(r'[^a-z\\s]', '', text)   # keep only letters and spaces\n",
    "\n",
    "    # ---------- Step 3: Tokenize ----------\n",
    "    tokens = word_tokenize(text)\n",
    "\n",
    "    # ---------- Step 4: Remove stopwords ----------\n",
    "    stop_words = set(stopwords.words('english'))\n",
    "    tokens = [word for word in tokens if word not in stop_words]\n",
    "\n",
    "    # ---------- Step 5: Lemmatization ----------\n",
    "    lemmatizer = WordNetLemmatizer()\n",
    "    tokens = [lemmatizer.lemmatize(word) for word in tokens]\n",
    "\n",
    "    # ---------- Step 6: Rejoin ----------\n",
    "    return \" \".join(tokens)"
   ]
  },
  {
   "cell_type": "code",
   "execution_count": 25,
   "id": "db4ac566-2af3-420f-ba2d-1ec9cf4885b4",
   "metadata": {},
   "outputs": [
    {
     "name": "stderr",
     "output_type": "stream",
     "text": [
      "[nltk_data] Downloading package punkt to C:\\Users\\Wills\n",
      "[nltk_data]     Michael\\AppData\\Roaming\\nltk_data...\n",
      "[nltk_data]   Package punkt is already up-to-date!\n"
     ]
    }
   ],
   "source": [
    "import nltk\n",
    "nltk.download('punkt')\n",
    "\n",
    "# Applying my function\n",
    "df2[\"Job_Title_Clean_text\"] = df2[\"Job_Title\"].apply(clean_text)\n",
    "df2[\"Job_Description_Clean_text\"] = df2[\"Job_Description\"].apply(clean_text)"
   ]
  },
  {
   "cell_type": "code",
   "execution_count": 26,
   "id": "147db22d-ec63-462d-abc0-6a82b5d2a9f8",
   "metadata": {},
   "outputs": [
    {
     "data": {
      "text/html": [
       "<div>\n",
       "<style scoped>\n",
       "    .dataframe tbody tr th:only-of-type {\n",
       "        vertical-align: middle;\n",
       "    }\n",
       "\n",
       "    .dataframe tbody tr th {\n",
       "        vertical-align: top;\n",
       "    }\n",
       "\n",
       "    .dataframe thead th {\n",
       "        text-align: right;\n",
       "    }\n",
       "</style>\n",
       "<table border=\"1\" class=\"dataframe\">\n",
       "  <thead>\n",
       "    <tr style=\"text-align: right;\">\n",
       "      <th></th>\n",
       "      <th>Job_Title</th>\n",
       "      <th>Job_Description</th>\n",
       "      <th>Job_Title_Clean_text</th>\n",
       "      <th>Job_Description_Clean_text</th>\n",
       "    </tr>\n",
       "  </thead>\n",
       "  <tbody>\n",
       "    <tr>\n",
       "      <th>0</th>\n",
       "      <td>Blockchain Nodes Masternodes to set up</td>\n",
       "      <td>Requirements Were looking for a long term coll...</td>\n",
       "      <td>blockchain node masternodes set</td>\n",
       "      <td>requirement looking long term collaboration so...</td>\n",
       "    </tr>\n",
       "    <tr>\n",
       "      <th>1</th>\n",
       "      <td>NET Developers</td>\n",
       "      <td>Greetings My name is Maria I am in urgent need...</td>\n",
       "      <td>net developer</td>\n",
       "      <td>greeting name maria urgent need find team net ...</td>\n",
       "    </tr>\n",
       "    <tr>\n",
       "      <th>2</th>\n",
       "      <td>X Engineer</td>\n",
       "      <td>Product The product is a live video chat and c...</td>\n",
       "      <td>x engineer</td>\n",
       "      <td>product product live video chat cobrowsing web...</td>\n",
       "    </tr>\n",
       "    <tr>\n",
       "      <th>3</th>\n",
       "      <td>Amazon Brand Manager</td>\n",
       "      <td>Currently TCM expanding its activities to Ukra...</td>\n",
       "      <td>amazon brand manager</td>\n",
       "      <td>currently tcm expanding activity ukraine hirin...</td>\n",
       "    </tr>\n",
       "    <tr>\n",
       "      <th>4</th>\n",
       "      <td>Amazon Brand Manager</td>\n",
       "      <td>Hello We MIMIRB2B are an outstaff company and ...</td>\n",
       "      <td>amazon brand manager</td>\n",
       "      <td>hello mimirbb outstaff company looking experie...</td>\n",
       "    </tr>\n",
       "  </tbody>\n",
       "</table>\n",
       "</div>"
      ],
      "text/plain": [
       "                                Job_Title  \\\n",
       "0  Blockchain Nodes Masternodes to set up   \n",
       "1                          NET Developers   \n",
       "2                              X Engineer   \n",
       "3                    Amazon Brand Manager   \n",
       "4                    Amazon Brand Manager   \n",
       "\n",
       "                                     Job_Description  \\\n",
       "0  Requirements Were looking for a long term coll...   \n",
       "1  Greetings My name is Maria I am in urgent need...   \n",
       "2  Product The product is a live video chat and c...   \n",
       "3  Currently TCM expanding its activities to Ukra...   \n",
       "4  Hello We MIMIRB2B are an outstaff company and ...   \n",
       "\n",
       "              Job_Title_Clean_text  \\\n",
       "0  blockchain node masternodes set   \n",
       "1                    net developer   \n",
       "2                       x engineer   \n",
       "3             amazon brand manager   \n",
       "4             amazon brand manager   \n",
       "\n",
       "                          Job_Description_Clean_text  \n",
       "0  requirement looking long term collaboration so...  \n",
       "1  greeting name maria urgent need find team net ...  \n",
       "2  product product live video chat cobrowsing web...  \n",
       "3  currently tcm expanding activity ukraine hirin...  \n",
       "4  hello mimirbb outstaff company looking experie...  "
      ]
     },
     "execution_count": 26,
     "metadata": {},
     "output_type": "execute_result"
    }
   ],
   "source": [
    "df2.head()"
   ]
  },
  {
   "cell_type": "code",
   "execution_count": 27,
   "id": "a0752dcf-aa6c-4dfd-b64d-08842009febe",
   "metadata": {},
   "outputs": [
    {
     "name": "stdout",
     "output_type": "stream",
     "text": [
      "                                                                        Job_Title                                                Job_Title_Clean_text                                                                                                                                                                                                                                                                                                                                                                                                                                                                                                                                                                                                                                                                                                                                                                                                                                                                                                                                                                                                                                                                                                                                                                                                                                                                                                                                                                                                                                                                                                                                                                                                                                                                                                                                                                                                                                                                                                                                                                                                                                                                                                                                                                                                                                                                                                                                                                                                                                                                                                                                                                                                                                                                                                                                                                                                                                                                                                                                                                                                                                                                                                                                                                                                                                                                                                                                                                                                                                                                                                                Job_Description                                                                                                                                                                                                                                                                                                                                                                                                                                                                                                                                                                                                                                                                                                                                                                                                                                                                                                                                                                                                                                                                                                                                                                                                                                                                                                                                                                                                                                                                                                                                                                                                                                                                                                                                                                                                                                                                                                                                                                                                                                                                                                                                                                                                                                                                                                                                                                                                                                                                                                                                                                                                                                                                                             Job_Description_Clean_text\n",
      "41124                                                            Graphic designer                                                    graphic designer                                                                                                                                                                                                                                                                                                                                                                                                                                                                                                                                                                                                                                                                                                                                                                                                                                                                                                                                                                                                                                                                                                                                                                                                                                                                                                                                                                                                                                                                                                                                                                                                                                                                                                                                                                                                                                                                                                                                                                                                                                                                                                                                                                                                                                                                                                                                                                                                                                                                                                                                                                                                                                                                             Job responsibilities - take the design brief to record requirements and clients needs - work with a wide range of media and use graphic design software - think creatively and develop new design concepts graphics and layouts - prepare rough drafts and present your ideas - collaborate with a team of Developers and Marketing for making the content better - stay up to date on emerging technologies Required qualifications - proven graphic designing experience - Bachelors degree in art graphic design and other relevant fields. - possession of creative flair versatility conceptualvisual ability and originality - demonstrable graphic design skills with a strong portfolio - ability to interact communicate and present ideas - up to date with industry-leading software and technologies - fluency in English and Russian.                                                                                                                                                                                                                                                                                                                                                                                                                                                                                                                                                                                                                                                                                                                                                                                                                                                                                                                                                                                                                                                                                                                                                                                                                                                                                                                                                                                                                                                                                                                                                                                                                                                                                                                                                                                                                                                                                                                                                                                                                                                      job responsibility take design brief record requirement client need work wide range medium use graphic design software think creatively develop new design concept graphic layout prepare rough draft present idea collaborate team developer marketing making content better stay date emerging technology required qualification proven graphic designing experience bachelor degree art graphic design relevant field possession creative flair versatility conceptualvisual ability originality demonstrable graphic design skill strong portfolio ability interact communicate present idea date industryleading software technology fluency english russian\n",
      "28978                                                            Engineering Lead                                                    engineering lead  We are looking for a strong and mature Engineering Lead with expertise in creating solution designs and large-scale architecture to join our Data Engineering team. In this role you will take charge of the team as well Back-end part of the solution. You will be a part of the HUMAN front line in our commitment to helping protect companies from both revenue and reputation risk caused by malicious bots. CUSTOMER Humansecurity.com is the global leader in bot mitigation. Our client protects over 200 enterprises including the largest internet platforms from sophisticated bots by verifying the humanity of nearly one trillion online interactions weekly. The most sophisticated bots look and act like humans when they click on ads visit websites fill out forms take over accounts and commit payment fraud. HUMAN platform stops them. PROJECT As an Engineering Lead you will need to take care of multiple components that are currently part of our solution written in Golang Python and Scala. In this role you will lead the whole feature lifecycle development cooperating with other Leads and a Product Owner. Our Technologies stack Python Scala Golang Clickhouse Trino Spark Firestore MongoDB ES Jenkins GCP Azure AWS and more. RESPONSIBILITIES - Coordinating the team to deliver reliable solutions data and models as well as prioritizing tasks to minimize time to value - Contributing to new technologies investigations and complex solutions design - Coming up with well-designed technical solutions and robust code - Working across diverse Product Management Software and DevOps teams to ensure that the whole solution meets requirements - Taking responsibility for delivering major features - Participating in requirements gathering and clarifying process - Developing core modules and functions - Performing code reviews writing unit and integration tests - Utilizing best engineering practices - Standing up for high-quality solutions and bringing new ideas to life - Taking part in technical discussions listening to arguments and applying critical thinking REQUIREMENTS - 10 years of development experience with Python Scala and Golang contributing into the Data Platform and internal solutions - At least 5 years as a Team LeadTech Lead managing a team of 5 engineers combining with architectural decisions and solutions implementation - Experience in creating solution designs and large-scale architecture balancing between various types of constraints - Solid knowledge of SQL and deep understanding of RDBMS technologies - Solid practical experience in using algorithms and data structures - Experience developing data pipelines based on one of mainstream frameworks such as Apache Spark MapReduce Apache Flink etc. - Experience with developing data lakes and data warehouses based on one of mainstream technologies such as Hive Snowflake Hudi etc. - Experience in using tools such as Presto and similar ones - Solid understanding of technical excellence and hands-on experience with code reviews test development and CICD - Experience with GCP and AWS clouds - Experience in proposals and write-ups with a proven ability to determine pros and cons - Advanced level of English WILL BE A PLUS - Experience with the AdTech domain PERSONAL PROFILE - Ability to take responsibility for technical and engineering decisions on the project - Excellent communication and presentation skills  looking strong mature engineering lead expertise creating solution design largescale architecture join data engineering team role take charge team well backend part solution part human front line commitment helping protect company revenue reputation risk caused malicious bot customer humansecuritycom global leader bot mitigation client protects enterprise including largest internet platform sophisticated bot verifying humanity nearly one trillion online interaction weekly sophisticated bot look act like human click ad visit website fill form take account commit payment fraud human platform stop project engineering lead need take care multiple component currently part solution written golang python scala role lead whole feature lifecycle development cooperating lead product owner technology stack python scala golang clickhouse trino spark firestore mongodb e jenkins gcp azure aws responsibility coordinating team deliver reliable solution data model well prioritizing task minimize time value contributing new technology investigation complex solution design coming welldesigned technical solution robust code working across diverse product management software devops team ensure whole solution meet requirement taking responsibility delivering major feature participating requirement gathering clarifying process developing core module function performing code review writing unit integration test utilizing best engineering practice standing highquality solution bringing new idea life taking part technical discussion listening argument applying critical thinking requirement year development experience python scala golang contributing data platform internal solution least year team leadtech lead managing team engineer combining architectural decision solution implementation experience creating solution design largescale architecture balancing various type constraint solid knowledge sql deep understanding rdbms technology solid practical experience using algorithm data structure experience developing data pipeline based one mainstream framework apache spark mapreduce apache flink etc experience developing data lake data warehouse based one mainstream technology hive snowflake hudi etc experience using tool presto similar one solid understanding technical excellence handson experience code review test development cicd experience gcp aws cloud experience proposal writeups proven ability determine pro con advanced level english plus experience adtech domain personal profile ability take responsibility technical engineering decision project excellent communication presentation skill\n",
      "4155                                                        Apache Kafka Engineer                                               apache kafka engineer                                                                                                                                                                                                                                                                                                                                                                                                                                                                                                                                                                                                                                                                                                                                                                                                                                                                                                                                                                                                                                                                                                                                   Our unit is responsible for innovations and operations of the group platforms for event streaming and data warehousing. These platforms are essential data ecosystem platforms for the data driven vision of our bank. You will have a strong CEE focus and interaction with clients in 13 countries as well as several branches. Project stack Apache KafkaConfluent AWS Java RestAPI SQL. This is what your typical day would look like Setup and operations of Kafka Cluster managed on-premise andor in cloud-based environments Definition of topics using Schema Registry Implementation of custom Kafka consumers Configuration of topics producers consumers Implement stream processing using KSQL Maintaining Kafka security and encryption Your essential qualities You have at least 2 years of experience in the Kafka operated environments - preferable in financial services industry and 5 year of Kafka experience You are familiar with SQL and NoSQL database systems You can show strong knowledge of tools for containerization You have mastered knowledge of Java REST APIs micro services message bus technologies You have knowledge in CICD DevOps best practices and tools You understand how to work in an agile environment You like working in a team and understand how important communication is You understand write and speak English well because we communicate with international colleagues every day You have strong analytical skills able to analyze and design complex data flows and business processes What you might like about us Motivated team in one of the leading banking groups in Austria and Central and Eastern Europe Strong support from an international banking technology team Competitive Salary twice a month English courses Long-term official employment sustainable and stable working environment Paid sick leave and vacation Medical insurance Access to professional development programs Comfortable work conditions Possibility of remote work Our selection process includes CV pre-screening and short call with Olga or Alina Online interview with Delivery Manager and the team in Vienna in English Background security check running in parallel Prompt feedback after every stage and a short summary of next steps If you are interested in this opportunity please apply now. We are excited to meet you                                                                                                                                                                                                                                                                                                                                                                                                                                                                                                                                                                                                                                                                                                                                                                                                                                                               unit responsible innovation operation group platform event streaming data warehousing platform essential data ecosystem platform data driven vision bank strong cee focus interaction client country well several branch project stack apache kafkaconfluent aws java restapi sql typical day would look like setup operation kafka cluster managed onpremise andor cloudbased environment definition topic using schema registry implementation custom kafka consumer configuration topic producer consumer implement stream processing using ksql maintaining kafka security encryption essential quality least year experience kafka operated environment preferable financial service industry year kafka experience familiar sql nosql database system show strong knowledge tool containerization mastered knowledge java rest apis micro service message bus technology knowledge cicd devops best practice tool understand work agile environment like working team understand important communication understand write speak english well communicate international colleague every day strong analytical skill able analyze design complex data flow business process might like u motivated team one leading banking group austria central eastern europe strong support international banking technology team competitive salary twice month english course longterm official employment sustainable stable working environment paid sick leave vacation medical insurance access professional development program comfortable work condition possibility remote work selection process includes cv prescreening short call olga alina online interview delivery manager team vienna english background security check running parallel prompt feedback every stage short summary next step interested opportunity please apply excited meet\n",
      "121168                                                   Senior Node.js Developer                                             senior nodejs developer                                                                                                                                                                                                                                                                                                                                                                                                                                                                                                                                                                                                                                                                                                                                                                                                                                                                                                                                                                                                                                                                                                                                                                                                                                                                                                                                                                                                                                                                                                                                                                                                                                                                                                                                                                                                                                                                                                                                                                                                                                                                                                                                                                                                                                                                                                                                                                                                                There is a lot going on in this e-commerce project and we would like a really experienced Node.js developer to join it on a long-term basis Required skills Node.js TypeScript Nest.js TDD or at least must meet the philosophies that we test the code Clean Architecture Hexagonal architecture modular monolith Docker Required but we allow learning Write-model read-model AWS Document DB. MongoDB 4.0 AWS Elastic Banstalk Terraform Nice-to-have React Semaphore CICD General experience in AWS Sendgrid Stripe for marketplaces understanding how taxes work in the USA Swagger From when February 2023 We offer Work in a multinational team and great domen of new experience This is a 100 remote job or on-sight in our offices during CET office hours Feel empowered with a friendly team open-door policy informal atmosphere within the company and regular team-building events The ability to focus on your work a lack of bureaucracy and micromanagement and convenient corporate services A perfect environment for learning and self-development with allowance for educational material                                                                                                                                                                                                                                                                                                                                                                                                                                                                                                                                                                                                                                                                                                                                                                                                                                                                                                                                                                                                                                                                                                                                                                                                                                                                                                                                                                                                                                                                                                                                                                                                                                                                                                                                                                                                                                                        lot going ecommerce project would like really experienced nodejs developer join longterm basis required skill nodejs typescript nestjs tdd least must meet philosophy test code clean architecture hexagonal architecture modular monolith docker required allow learning writemodel readmodel aws document db mongodb aws elastic banstalk terraform nicetohave react semaphore cicd general experience aws sendgrid stripe marketplace understanding tax work usa swagger february offer work multinational team great domen new experience remote job onsight office cet office hour feel empowered friendly team opendoor policy informal atmosphere within company regular teambuilding event ability focus work lack bureaucracy micromanagement convenient corporate service perfect environment learning selfdevelopment allowance educational material\n",
      "63786                                                         ManualAutomation QA                                                 manualautomation qa                                                                                                                                                                                                                                                                                                                                                                                                                                                                                                                                                                                                                                                                                                                                                                                                                                                                                                                                                                                                                                                                                                                                                                                                                                                                                                                                                                                                                                                                                                                                                                                                                                                                                                                                                                                                                                                                                                                                                                                                                                                                                                                                                                                                                                                                                                                                                                                                                                                                                                                                                                                                                                                 What Youll Do Develop test plans scripts and reports of multiple projects of varying size Validate and test a wide variety of technologies and platforms Verify that real-world use cases and user expectations are simulated and met during the validation process Be the guardian of our outstanding customer experience Who You Are Professional with more than 5 years of experience Able to create test plans define testing strategies and get a kick out of uncovering these hard-to-find bugs Ability to read logs and code errors Experience with automatic testing tools Python knowledge advantage Jira Xray experience big advantage Excellent communicator with good ability to work collaboratively with other departments Fast learner with good ability to work independently Ability to mentor junior QA engineers Excited by and passionate about technology                                                                                                                                                                                                                                                                                                                                                                                                                                                                                                                                                                                                                                                                                                                                                                                                                                                                                                                                                                                                                                                                                                                                                                                                                                                                                                                                                                                                                                                                                                                                                                                                                                                                                                                                                                                                                                                                                                                                                                                                                                                     youll develop test plan script report multiple project varying size validate test wide variety technology platform verify realworld use case user expectation simulated met validation process guardian outstanding customer experience professional year experience able create test plan define testing strategy get kick uncovering hardtofind bug ability read log code error experience automatic testing tool python knowledge advantage jira xray experience big advantage excellent communicator good ability work collaboratively department fast learner good ability work independently ability mentor junior qa engineer excited passionate technology\n",
      "133163  Strong MiddleSenior Python Web Developer for an energy efficiency project  strong middlesenior python web developer energy efficiency project                                                                                                                                                                                                                                                                                                                                                                                                                                                                                                                                                                                                                                                                                                                                                                                                                                                                                                                                                                                                                                                                                                                                                                                                                                                                                                                                                                                                                                                                                                                                                                                                                                                                                                                                                                                                                                                                                                                                                                                                                                                                                                                                                                                                                                                                                                                                                                                                                                                                                       Project description We are working on a progressive project the purpose of which is to increase energy efficiency in industrial and commercial facilities. Our product is an intuitive web interface based on machine learning algorithms that analyze energy consumption data and offer optimal solutions for saving energy. Responsibilities Development and optimization of the web interface of our product. Design and implementation of new functions and services. Working with data including collection processing and analysis. Integration with external APIs and services. Writing automated tests and maintaining code quality. Required Experience Skills and Aspects Experience with Python and web development frameworks for at least 3 years. Knowledge of SQL and experience with relational databases. Experience with JavaScript HTML CSS. Understanding how REST APIs work. Knowledge and understanding of web application security principles and practices. Experience with version control systems such as Git.                                                                                                                                                                                                                                                                                                                                                                                                                                                                                                                                                                                                                                                                                                                                                                                                                                                                                                                                                                                                                                                                                                                                                                                                                                                                                                                                                                                                                                                                                                                                                                                                                                                                                                                                                                                                                                                                                                     project description working progressive project purpose increase energy efficiency industrial commercial facility product intuitive web interface based machine learning algorithm analyze energy consumption data offer optimal solution saving energy responsibility development optimization web interface product design implementation new function service working data including collection processing analysis integration external apis service writing automated test maintaining code quality required experience skill aspect experience python web development framework least year knowledge sql experience relational database experience javascript html cs understanding rest apis work knowledge understanding web application security principle practice experience version control system git\n",
      "65962                                                        Marketing Specialist                                                marketing specialist                                                                                                                                                                                                                                                                                                                                                                                                                                                                                                                                                                                                                                                                                                                                                                                                                                                                                                                                                                                                                                                                                                                                                                                                                                       Job Description Enterprising open ambitious proactive positive thinker fast learner willing to go beyond standard duties and grow professionally 2-5 years of communications or related experience in a technical or business environment Fluent in English and Ukrainian Expert writer in internal and employee communications that are engaging and informative Basic technical vocabulary preferred Experience in brand building activities Good understanding of project management principles data metrics familiarity and analytical skills Skilled at managing multiple projects simultaneously Strong interpersonal skills and ability to work well with individuals at all professional levels Highly collaborative team player comfortable with change and evolving communications landscape Intranet andor internal platform experience Basic photo and video shooting skills Skilled in Google Apps and general computer systems. Job Responsibilities Take part in strategic development of Employer Brand Employer Value Proposition of GlobalLogic Ukraine. Take part in strategic planning and development of the companys internal communications instruments and culture of their efficient use. Proofreading and copywriting of all texts for internal communications. Initiate conduct provide reports and analysis of internal surveys of target audiences and communication channels both independently and with external contractors. Initiate plan create conduct provide reports and analytics on company-wide and Region-based internal communication campaigns. Maintain analyze and develop existing and new communication channels to ensure maximum efficiency of internal communications. Manage internal content hub and ensure proper and efficient distribution and recycling of content internally its connection to external communication channels when this is applicable. Carry out the full cycle of production and distribution of content for regular internal communication channels like e-mail newsletter in-office digital screens internal social media platforms and groups. Provide communication support for internal events and all kinds of internal initiatives. Manage full-cycle of production of seasonaltailored communication.                                                                                                                                                                                                                                                                                                                                                                                                                                                                                                                                                                                                                                                                                                                                                                                         job description enterprising open ambitious proactive positive thinker fast learner willing go beyond standard duty grow professionally year communication related experience technical business environment fluent english ukrainian expert writer internal employee communication engaging informative basic technical vocabulary preferred experience brand building activity good understanding project management principle data metric familiarity analytical skill skilled managing multiple project simultaneously strong interpersonal skill ability work well individual professional level highly collaborative team player comfortable change evolving communication landscape intranet andor internal platform experience basic photo video shooting skill skilled google apps general computer system job responsibility take part strategic development employer brand employer value proposition globallogic ukraine take part strategic planning development company internal communication instrument culture efficient use proofreading copywriting text internal communication initiate conduct provide report analysis internal survey target audience communication channel independently external contractor initiate plan create conduct provide report analytics companywide regionbased internal communication campaign maintain analyze develop existing new communication channel ensure maximum efficiency internal communication manage internal content hub ensure proper efficient distribution recycling content internally connection external communication channel applicable carry full cycle production distribution content regular internal communication channel like email newsletter inoffice digital screen internal social medium platform group provide communication support internal event kind internal initiative manage fullcycle production seasonaltailored communication\n",
      "85700                                                           Node.js Developer                                                    nodejs developer                                                                                                                                                                                                                                                                                                                                                                                                                                                                                                                                                                                                                                                                                                                                                                                                                                                                                                                                                                                                                                                                                                                                                                                                                                                                                                                                                                                                                                                                                                                                                                                                                                                                                                                                                                                                                                                                                           Responsibilities - 1-2 years of commercial experience in web backend development applying node.js - advanced skills in JavaScript - previous experience with SQL databases and NoSQL databases - experience with integration and unit testing - understanding of SOLID and DRY principles - intermediate English . Nice to have - experience with ORM Sequelize Prisma TypeORM Bookshelf Objection.js - understanding of Docker containers previous experience with Swagger and Socket.io. What we offer - knowledge-sharing activities - development of tech and soft skills - paid 24 days of vacations and 20 sick leaves per year - paid participation in conferences and hackathons - corporate English classes - sport compensation - Covid-19 compensation - bright team buildings and corporate events. Plexteq We are a fast growing IT company located in Vinnytsia. Our main domains include enterprise highly loaded applications mobile and web-applications . We also have extensive experience and expertise in business intelligence processing massive data amounts and data mining in particular. Our team is following ISO 9001 and CMMI v3 guidelines to make process of software development cleaner and more clear to our customers. We use Scrum process for project management often use open-source technologies. Plexteq philosophy is based on self-improvement and professional development as this is the best what makes specialists truly happy and motivated. As a company we look for unique projects with interesting not trivial tasks. Join us and explore what its like to be a part of Plexteq                                                                                                                                                                                                                                                                                                                                                                                                                                                                                                                                                                                                                                                                                                                                                                                                                                                                                                                                                                                                                                                                                                                                                                                                                                                                                                                                                                                                                                                         responsibility year commercial experience web backend development applying nodejs advanced skill javascript previous experience sql database nosql database experience integration unit testing understanding solid dry principle intermediate english nice experience orm sequelize prisma typeorm bookshelf objectionjs understanding docker container previous experience swagger socketio offer knowledgesharing activity development tech soft skill paid day vacation sick leaf per year paid participation conference hackathons corporate english class sport compensation covid compensation bright team building corporate event plexteq fast growing company located vinnytsia main domain include enterprise highly loaded application mobile webapplications also extensive experience expertise business intelligence processing massive data amount data mining particular team following iso cmmi v guideline make process software development cleaner clear customer use scrum process project management often use opensource technology plexteq philosophy based selfimprovement professional development best make specialist truly happy motivated company look unique project interesting trivial task join u explore like part plexteq\n",
      "93987                                                            Python Developer                                                    python developer                                                                                                                                                                                                                                                                                                                                                                                                                                                                                                                                                                                                                                                                                                                                                                                                                                                                                                                                                                                                                                                                                                                                                                                                                                                                                                                                                                                                                                                                                                                                                                                                                                                                                                                                                                                                                                            About the role In this role you will engineer and develop the backend that will serve 10s of millions of users. There is no legacy codebase which means you dont need to suffer from old poorly-written code you need to write clean code from scratch. As one of the first engineers in the company you will be responsible for ensuring the code style is implemented consistently across the codebase right from the start. Keeping the code modular and easy to read is one of the top priorities. At the same time as a growing start-up we are moving at a fast pace so you need to be agile and focus on delivering software that does the job first and then improve it step by step. You will work directly with the founding team. Responsibilities Develop backend in Python Deliver efficient code that does the job first and iteratively improve it later Adhere to code guidelines and keep co-workers accountable for it as well Ship code that is easy to read maintain and debug Be on top of all most recent code practices libraries and frameworks and push the team to use better tools Conduct thoughtful code reviews for your team members Basic qualifications 3 years of Python experience 5 years of software engineering experience Proficiency in unitintegration testing Good understanding of how to implement useful logging Understanding of code complexity measurements and why it is important The skill of documenting your own code You iterate quickly with short feedback loops Youre comfortable with change and ambiguity and thrive working autonomously English level - Intermediate or higher Experienced using self-improvement apps                                                                                                                                                                                                                                                                                                                                                                                                                                                                                                                                                                                                                                                                                                                                                                                                                                                                                                                                                                                                                                                                                                                                                                                                                                                                                                                                                                                                                                                                                                                                   role role engineer develop backend serve million user legacy codebase mean dont need suffer old poorlywritten code need write clean code scratch one first engineer company responsible ensuring code style implemented consistently across codebase right start keeping code modular easy read one top priority time growing startup moving fast pace need agile focus delivering software job first improve step step work directly founding team responsibility develop backend python deliver efficient code job first iteratively improve later adhere code guideline keep coworkers accountable well ship code easy read maintain debug top recent code practice library framework push team use better tool conduct thoughtful code review team member basic qualification year python experience year software engineering experience proficiency unitintegration testing good understanding implement useful logging understanding code complexity measurement important skill documenting code iterate quickly short feedback loop youre comfortable change ambiguity thrive working autonomously english level intermediate higher experienced using selfimprovement apps\n",
      "10670                                                            Business analyst                                                    business analyst                                                                                                                                                                                                                                                                                                                                                                                                                                                                                                                                                                                                                                                                                                                                                                                                                                                                                                                                                                                                                                                                                                                                                                                                                                                                                                                                                                                                                                                                                           Our client is a global e-commerce agency. It is a leading developer of Magento OpenSource and Adobe Commerce solutions. Now the company is looking for Business analytics to join its team. About company Magento partners since 2011 34 projects done in 2021 About team The company employs more than 70 professionals. More than 90 Magento Expert Level Certifications Requirements 2 years experience in Business Analysis within an international IT company Knowledge of e-Commerce domain Experience with JIRA issue project tracking software Experience with wireframing tools Experience in Agile methodologies Advanced English communication both verbal and written High-level communication skills for both technical and non-technical audiences Ability to work in a fast-paced environment Experience with Magento 2 projects Experience with Google Analytics Responsibilities Effectively communicate with distributed team members including executives managers and subject matter experts Work with stakeholders and engineering teams on gathering prioritizing and further decomposition of requirements Work with stakeholders on defining the product roadmap and support for PM with business value growth Support for PM with developing and maintaining the project backlog Conduct backlog grooming and estimations sessions Create features user stories use cases flow charts wireframes diagrams mind maps etc Work with the UX team to prepare prototypes and validate them against the requirements Organize grooming and meetings with stakeholders Conduct demos for stakeholders The company offers 40-hour workweek. Transparent system for salary improvements Possibility to work remotely from any place Paid time off Flexible schedule Company-paid certifications and help in the preparation By sending your feedback or resume for this vacancy you give your consent to the A-HR company to process store and transfer to third parties your personal data provided by this action.                                                                                                                                                                                                                                                                                                                                                                                                                                                                                                                                                                                                                                                                                                                                                                                                                                                                                                                                                                                                                                                                                                                                                          client global ecommerce agency leading developer magento opensource adobe commerce solution company looking business analytics join team company magento partner since project done team company employ professional magento expert level certification requirement year experience business analysis within international company knowledge ecommerce domain experience jira issue project tracking software experience wireframing tool experience agile methodology advanced english communication verbal written highlevel communication skill technical nontechnical audience ability work fastpaced environment experience magento project experience google analytics responsibility effectively communicate distributed team member including executive manager subject matter expert work stakeholder engineering team gathering prioritizing decomposition requirement work stakeholder defining product roadmap support pm business value growth support pm developing maintaining project backlog conduct backlog grooming estimation session create feature user story use case flow chart wireframes diagram mind map etc work ux team prepare prototype validate requirement organize grooming meeting stakeholder conduct demo stakeholder company offer hour workweek transparent system salary improvement possibility work remotely place paid time flexible schedule companypaid certification help preparation sending feedback resume vacancy give consent ahr company process store transfer third party personal data provided action\n"
     ]
    }
   ],
   "source": [
    "# Checking the changes observed on both columns\n",
    "sample2 = df2.sample(10, random_state=42)[[\"Job_Title\", \"Job_Title_Clean_text\", \"Job_Description\", \"Job_Description_Clean_text\"]]\n",
    "print(sample2.to_string())"
   ]
  },
  {
   "cell_type": "code",
   "execution_count": 28,
   "id": "6fc7736f-b383-4043-a789-086aa9c60589",
   "metadata": {},
   "outputs": [],
   "source": [
    "# Keep only the cleaned columns\n",
    "df2 = df2[[\"Job_Title_Clean_text\", \"Job_Description_Clean_text\"]]\n",
    "\n",
    "# Rename them to shorter names for convenience\n",
    "df2 = df2.rename(columns={\n",
    "   \"Job_Title_Clean_text\": \"Job_Title_Clean\",\n",
    "    \"Job_Description_Clean_text\": \"Job_Description_Clean\"})"
   ]
  },
  {
   "cell_type": "code",
   "execution_count": 29,
   "id": "da5ff689-dbeb-4032-b493-2130f99a253c",
   "metadata": {},
   "outputs": [
    {
     "data": {
      "text/html": [
       "<div>\n",
       "<style scoped>\n",
       "    .dataframe tbody tr th:only-of-type {\n",
       "        vertical-align: middle;\n",
       "    }\n",
       "\n",
       "    .dataframe tbody tr th {\n",
       "        vertical-align: top;\n",
       "    }\n",
       "\n",
       "    .dataframe thead th {\n",
       "        text-align: right;\n",
       "    }\n",
       "</style>\n",
       "<table border=\"1\" class=\"dataframe\">\n",
       "  <thead>\n",
       "    <tr style=\"text-align: right;\">\n",
       "      <th></th>\n",
       "      <th>Job_Title_Clean</th>\n",
       "      <th>Job_Description_Clean</th>\n",
       "    </tr>\n",
       "  </thead>\n",
       "  <tbody>\n",
       "    <tr>\n",
       "      <th>0</th>\n",
       "      <td>blockchain node masternodes set</td>\n",
       "      <td>requirement looking long term collaboration so...</td>\n",
       "    </tr>\n",
       "    <tr>\n",
       "      <th>1</th>\n",
       "      <td>net developer</td>\n",
       "      <td>greeting name maria urgent need find team net ...</td>\n",
       "    </tr>\n",
       "    <tr>\n",
       "      <th>2</th>\n",
       "      <td>x engineer</td>\n",
       "      <td>product product live video chat cobrowsing web...</td>\n",
       "    </tr>\n",
       "    <tr>\n",
       "      <th>3</th>\n",
       "      <td>amazon brand manager</td>\n",
       "      <td>currently tcm expanding activity ukraine hirin...</td>\n",
       "    </tr>\n",
       "    <tr>\n",
       "      <th>4</th>\n",
       "      <td>amazon brand manager</td>\n",
       "      <td>hello mimirbb outstaff company looking experie...</td>\n",
       "    </tr>\n",
       "  </tbody>\n",
       "</table>\n",
       "</div>"
      ],
      "text/plain": [
       "                   Job_Title_Clean  \\\n",
       "0  blockchain node masternodes set   \n",
       "1                    net developer   \n",
       "2                       x engineer   \n",
       "3             amazon brand manager   \n",
       "4             amazon brand manager   \n",
       "\n",
       "                               Job_Description_Clean  \n",
       "0  requirement looking long term collaboration so...  \n",
       "1  greeting name maria urgent need find team net ...  \n",
       "2  product product live video chat cobrowsing web...  \n",
       "3  currently tcm expanding activity ukraine hirin...  \n",
       "4  hello mimirbb outstaff company looking experie...  "
      ]
     },
     "execution_count": 29,
     "metadata": {},
     "output_type": "execute_result"
    }
   ],
   "source": [
    "df2.head()"
   ]
  },
  {
   "cell_type": "markdown",
   "id": "103e73c4-9865-4ded-a3f1-bc265b3f6f8e",
   "metadata": {},
   "source": [
    " ## Step 4: Feature Extraction Step"
   ]
  },
  {
   "cell_type": "markdown",
   "id": "e7d4e82f-eea1-4574-8c65-dc35a2058cc2",
   "metadata": {},
   "source": [
    "#### Convert text into numerical features using: \n",
    "\n",
    "###### - TF-IDF Vectorizer (sklearn.feature_extraction.text.TfidfVectorizer) \n",
    "\n",
    "#### Create two sets of vectors: \n",
    "\n",
    "###### - For job roles (dataset) \n",
    "###### - For user input "
   ]
  },
  {
   "cell_type": "code",
   "execution_count": null,
   "id": "c5c78b7a-9387-4641-9ecd-f6e9b6082583",
   "metadata": {},
   "outputs": [],
   "source": []
  },
  {
   "cell_type": "markdown",
   "id": "4ce695c1-ccbc-43ba-bedf-e1793558cf75",
   "metadata": {},
   "source": [
    "#### The First set of vectors: \n",
    "- Job roles (dataset) "
   ]
  },
  {
   "cell_type": "code",
   "execution_count": 34,
   "id": "ce76eb68-6f22-40cf-885c-7ada7b841dba",
   "metadata": {},
   "outputs": [
    {
     "name": "stdout",
     "output_type": "stream",
     "text": [
      "Job roles TF-IDF shape: (141871, 5000)\n"
     ]
    }
   ],
   "source": [
    "# Import the TF-IDF tool from sklearn\n",
    "import pandas as pd\n",
    "from sklearn.feature_extraction.text import TfidfVectorizer\n",
    "\n",
    "# Drop any rows where the description is missing (NaN)\n",
    "# \"tolist()\" changes it from a pandas column into a normal python list\n",
    "job_roles = df2[\"Job_Description_Clean\"].dropna().tolist()\n",
    "\n",
    "# Initialize TF-IDF Vectorizer to convert text into numerical features\n",
    "# limit features to top 5000 words\n",
    "# unigrams + bigrams capture short skills\n",
    "# remove English stopwords\n",
    "\n",
    "vectorizer = TfidfVectorizer(\n",
    "    max_features=5000,   \n",
    "    ngram_range=(1,2),   \n",
    "    stop_words=\"english\" \n",
    ")\n",
    "\n",
    "X_roles = vectorizer.fit_transform(job_roles)\n",
    "\n",
    "# Print the size of the TF-IDF matrix for job description\n",
    "print(\"Job roles TF-IDF shape:\", X_roles.shape)"
   ]
  },
  {
   "cell_type": "markdown",
   "id": "1e0ef5ab-90a1-405d-9d4e-71dbe18d3b01",
   "metadata": {},
   "source": [
    "#### The Second set of vectors: \n",
    "- User input "
   ]
  },
  {
   "cell_type": "code",
   "execution_count": 31,
   "id": "41541966-e011-419f-9718-2caa10dc616d",
   "metadata": {},
   "outputs": [
    {
     "name": "stdout",
     "output_type": "stream",
     "text": [
      "User Input TF-IDF shape: (1, 5000)\n"
     ]
    }
   ],
   "source": [
    "# Convert user input\n",
    "user_input = \"Looking for a Java Developer with Spring Boot, SQL, and Docker experience.\"\n",
    "\n",
    "# Transform user input (also sparse, same feature space)\n",
    "X_user = vectorizer.transform([user_input])\n",
    "\n",
    "print(\"User Input TF-IDF shape:\", X_user.shape)\n"
   ]
  },
  {
   "cell_type": "code",
   "execution_count": 35,
   "id": "698c81bd-34be-4511-8dda-5d1c3dfa54d9",
   "metadata": {},
   "outputs": [
    {
     "data": {
      "text/html": [
       "<div>\n",
       "<style scoped>\n",
       "    .dataframe tbody tr th:only-of-type {\n",
       "        vertical-align: middle;\n",
       "    }\n",
       "\n",
       "    .dataframe tbody tr th {\n",
       "        vertical-align: top;\n",
       "    }\n",
       "\n",
       "    .dataframe thead th {\n",
       "        text-align: right;\n",
       "    }\n",
       "</style>\n",
       "<table border=\"1\" class=\"dataframe\">\n",
       "  <thead>\n",
       "    <tr style=\"text-align: right;\">\n",
       "      <th></th>\n",
       "      <th>Job_Title_Clean</th>\n",
       "      <th>Job_Description_Clean</th>\n",
       "    </tr>\n",
       "  </thead>\n",
       "  <tbody>\n",
       "    <tr>\n",
       "      <th>0</th>\n",
       "      <td>blockchain node masternodes set</td>\n",
       "      <td>requirement looking long term collaboration so...</td>\n",
       "    </tr>\n",
       "    <tr>\n",
       "      <th>1</th>\n",
       "      <td>net developer</td>\n",
       "      <td>greeting name maria urgent need find team net ...</td>\n",
       "    </tr>\n",
       "    <tr>\n",
       "      <th>2</th>\n",
       "      <td>x engineer</td>\n",
       "      <td>product product live video chat cobrowsing web...</td>\n",
       "    </tr>\n",
       "    <tr>\n",
       "      <th>3</th>\n",
       "      <td>amazon brand manager</td>\n",
       "      <td>currently tcm expanding activity ukraine hirin...</td>\n",
       "    </tr>\n",
       "    <tr>\n",
       "      <th>4</th>\n",
       "      <td>amazon brand manager</td>\n",
       "      <td>hello mimirbb outstaff company looking experie...</td>\n",
       "    </tr>\n",
       "    <tr>\n",
       "      <th>...</th>\n",
       "      <td>...</td>\n",
       "      <td>...</td>\n",
       "    </tr>\n",
       "    <tr>\n",
       "      <th>141866</th>\n",
       "      <td>gaming</td>\n",
       "      <td>cto lead development platform implementation n...</td>\n",
       "    </tr>\n",
       "    <tr>\n",
       "      <th>141867</th>\n",
       "      <td>lead full stack developer</td>\n",
       "      <td>required attribute full project lifecycle expe...</td>\n",
       "    </tr>\n",
       "    <tr>\n",
       "      <th>141868</th>\n",
       "      <td>saldo apps</td>\n",
       "      <td>saldo apps seeking seasoned cto lead team exce...</td>\n",
       "    </tr>\n",
       "    <tr>\n",
       "      <th>141869</th>\n",
       "      <td>lead react</td>\n",
       "      <td>responsibility analyze estimate implementation...</td>\n",
       "    </tr>\n",
       "    <tr>\n",
       "      <th>141870</th>\n",
       "      <td>devops devops cloud architect</td>\n",
       "      <td>looking talented brilliant devops cloud archit...</td>\n",
       "    </tr>\n",
       "  </tbody>\n",
       "</table>\n",
       "<p>141871 rows × 2 columns</p>\n",
       "</div>"
      ],
      "text/plain": [
       "                        Job_Title_Clean  \\\n",
       "0       blockchain node masternodes set   \n",
       "1                         net developer   \n",
       "2                            x engineer   \n",
       "3                  amazon brand manager   \n",
       "4                  amazon brand manager   \n",
       "...                                 ...   \n",
       "141866                           gaming   \n",
       "141867        lead full stack developer   \n",
       "141868                       saldo apps   \n",
       "141869                       lead react   \n",
       "141870    devops devops cloud architect   \n",
       "\n",
       "                                    Job_Description_Clean  \n",
       "0       requirement looking long term collaboration so...  \n",
       "1       greeting name maria urgent need find team net ...  \n",
       "2       product product live video chat cobrowsing web...  \n",
       "3       currently tcm expanding activity ukraine hirin...  \n",
       "4       hello mimirbb outstaff company looking experie...  \n",
       "...                                                   ...  \n",
       "141866  cto lead development platform implementation n...  \n",
       "141867  required attribute full project lifecycle expe...  \n",
       "141868  saldo apps seeking seasoned cto lead team exce...  \n",
       "141869  responsibility analyze estimate implementation...  \n",
       "141870  looking talented brilliant devops cloud archit...  \n",
       "\n",
       "[141871 rows x 2 columns]"
      ]
     },
     "execution_count": 35,
     "metadata": {},
     "output_type": "execute_result"
    }
   ],
   "source": [
    "df2"
   ]
  },
  {
   "cell_type": "code",
   "execution_count": null,
   "id": "2245feab-b3c3-4347-8474-068166a3064c",
   "metadata": {},
   "outputs": [],
   "source": []
  }
 ],
 "metadata": {
  "kernelspec": {
   "display_name": "Python 3 (ipykernel)",
   "language": "python",
   "name": "python3"
  },
  "language_info": {
   "codemirror_mode": {
    "name": "ipython",
    "version": 3
   },
   "file_extension": ".py",
   "mimetype": "text/x-python",
   "name": "python",
   "nbconvert_exporter": "python",
   "pygments_lexer": "ipython3",
   "version": "3.12.7"
  }
 },
 "nbformat": 4,
 "nbformat_minor": 5
}
