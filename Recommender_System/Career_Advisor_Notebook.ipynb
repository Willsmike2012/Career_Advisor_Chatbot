{
 "cells": [
  {
   "cell_type": "code",
   "execution_count": 7,
   "id": "08478de5-d74f-4b0d-9867-a24a5bd86c6d",
   "metadata": {},
   "outputs": [
    {
     "name": "stdout",
     "output_type": "stream",
     "text": [
      "Collecting datasets\n",
      "  Downloading datasets-4.0.0-py3-none-any.whl.metadata (19 kB)\n",
      "Requirement already satisfied: filelock in c:\\users\\user\\anaconda3\\lib\\site-packages (from datasets) (3.13.1)\n",
      "Requirement already satisfied: numpy>=1.17 in c:\\users\\user\\anaconda3\\lib\\site-packages (from datasets) (1.26.4)\n",
      "Requirement already satisfied: pyarrow>=15.0.0 in c:\\users\\user\\anaconda3\\lib\\site-packages (from datasets) (16.1.0)\n",
      "Requirement already satisfied: dill<0.3.9,>=0.3.0 in c:\\users\\user\\anaconda3\\lib\\site-packages (from datasets) (0.3.8)\n",
      "Requirement already satisfied: pandas in c:\\users\\user\\anaconda3\\lib\\site-packages (from datasets) (2.2.2)\n",
      "Requirement already satisfied: requests>=2.32.2 in c:\\users\\user\\anaconda3\\lib\\site-packages (from datasets) (2.32.3)\n",
      "Requirement already satisfied: tqdm>=4.66.3 in c:\\users\\user\\anaconda3\\lib\\site-packages (from datasets) (4.66.5)\n",
      "Collecting xxhash (from datasets)\n",
      "  Downloading xxhash-3.5.0-cp312-cp312-win_amd64.whl.metadata (13 kB)\n",
      "Collecting multiprocess<0.70.17 (from datasets)\n",
      "  Downloading multiprocess-0.70.16-py312-none-any.whl.metadata (7.2 kB)\n",
      "Requirement already satisfied: fsspec<=2025.3.0,>=2023.1.0 in c:\\users\\user\\anaconda3\\lib\\site-packages (from fsspec[http]<=2025.3.0,>=2023.1.0->datasets) (2024.6.1)\n",
      "Collecting huggingface-hub>=0.24.0 (from datasets)\n",
      "  Downloading huggingface_hub-0.34.4-py3-none-any.whl.metadata (14 kB)\n",
      "Requirement already satisfied: packaging in c:\\users\\user\\anaconda3\\lib\\site-packages (from datasets) (24.1)\n",
      "Requirement already satisfied: pyyaml>=5.1 in c:\\users\\user\\anaconda3\\lib\\site-packages (from datasets) (6.0.1)\n",
      "Requirement already satisfied: aiohttp!=4.0.0a0,!=4.0.0a1 in c:\\users\\user\\anaconda3\\lib\\site-packages (from fsspec[http]<=2025.3.0,>=2023.1.0->datasets) (3.10.5)\n",
      "Requirement already satisfied: typing-extensions>=3.7.4.3 in c:\\users\\user\\anaconda3\\lib\\site-packages (from huggingface-hub>=0.24.0->datasets) (4.14.1)\n",
      "Requirement already satisfied: charset-normalizer<4,>=2 in c:\\users\\user\\anaconda3\\lib\\site-packages (from requests>=2.32.2->datasets) (3.3.2)\n",
      "Requirement already satisfied: idna<4,>=2.5 in c:\\users\\user\\anaconda3\\lib\\site-packages (from requests>=2.32.2->datasets) (3.7)\n",
      "Requirement already satisfied: urllib3<3,>=1.21.1 in c:\\users\\user\\anaconda3\\lib\\site-packages (from requests>=2.32.2->datasets) (2.5.0)\n",
      "Requirement already satisfied: certifi>=2017.4.17 in c:\\users\\user\\anaconda3\\lib\\site-packages (from requests>=2.32.2->datasets) (2025.7.14)\n",
      "Requirement already satisfied: colorama in c:\\users\\user\\anaconda3\\lib\\site-packages (from tqdm>=4.66.3->datasets) (0.4.6)\n",
      "Requirement already satisfied: python-dateutil>=2.8.2 in c:\\users\\user\\anaconda3\\lib\\site-packages (from pandas->datasets) (2.9.0.post0)\n",
      "Requirement already satisfied: pytz>=2020.1 in c:\\users\\user\\anaconda3\\lib\\site-packages (from pandas->datasets) (2024.1)\n",
      "Requirement already satisfied: tzdata>=2022.7 in c:\\users\\user\\anaconda3\\lib\\site-packages (from pandas->datasets) (2023.3)\n",
      "Requirement already satisfied: aiohappyeyeballs>=2.3.0 in c:\\users\\user\\anaconda3\\lib\\site-packages (from aiohttp!=4.0.0a0,!=4.0.0a1->fsspec[http]<=2025.3.0,>=2023.1.0->datasets) (2.4.0)\n",
      "Requirement already satisfied: aiosignal>=1.1.2 in c:\\users\\user\\anaconda3\\lib\\site-packages (from aiohttp!=4.0.0a0,!=4.0.0a1->fsspec[http]<=2025.3.0,>=2023.1.0->datasets) (1.2.0)\n",
      "Requirement already satisfied: attrs>=17.3.0 in c:\\users\\user\\anaconda3\\lib\\site-packages (from aiohttp!=4.0.0a0,!=4.0.0a1->fsspec[http]<=2025.3.0,>=2023.1.0->datasets) (25.3.0)\n",
      "Requirement already satisfied: frozenlist>=1.1.1 in c:\\users\\user\\anaconda3\\lib\\site-packages (from aiohttp!=4.0.0a0,!=4.0.0a1->fsspec[http]<=2025.3.0,>=2023.1.0->datasets) (1.4.0)\n",
      "Requirement already satisfied: multidict<7.0,>=4.5 in c:\\users\\user\\anaconda3\\lib\\site-packages (from aiohttp!=4.0.0a0,!=4.0.0a1->fsspec[http]<=2025.3.0,>=2023.1.0->datasets) (6.0.4)\n",
      "Requirement already satisfied: yarl<2.0,>=1.0 in c:\\users\\user\\anaconda3\\lib\\site-packages (from aiohttp!=4.0.0a0,!=4.0.0a1->fsspec[http]<=2025.3.0,>=2023.1.0->datasets) (1.11.0)\n",
      "Requirement already satisfied: six>=1.5 in c:\\users\\user\\anaconda3\\lib\\site-packages (from python-dateutil>=2.8.2->pandas->datasets) (1.16.0)\n",
      "Downloading datasets-4.0.0-py3-none-any.whl (494 kB)\n",
      "Downloading huggingface_hub-0.34.4-py3-none-any.whl (561 kB)\n",
      "   ---------------------------------------- 0.0/561.5 kB ? eta -:--:--\n",
      "   ---------------------------------------- 561.5/561.5 kB 2.7 MB/s eta 0:00:00\n",
      "Downloading multiprocess-0.70.16-py312-none-any.whl (146 kB)\n",
      "Downloading xxhash-3.5.0-cp312-cp312-win_amd64.whl (30 kB)\n",
      "Installing collected packages: xxhash, multiprocess, huggingface-hub, datasets\n",
      "Successfully installed datasets-4.0.0 huggingface-hub-0.34.4 multiprocess-0.70.16 xxhash-3.5.0\n"
     ]
    },
    {
     "name": "stderr",
     "output_type": "stream",
     "text": [
      "WARNING: Ignoring invalid distribution ~lotly (C:\\Users\\User\\anaconda3\\Lib\\site-packages)\n",
      "WARNING: Ignoring invalid distribution ~lotly (C:\\Users\\User\\anaconda3\\Lib\\site-packages)\n",
      "WARNING: Ignoring invalid distribution ~lotly (C:\\Users\\User\\anaconda3\\Lib\\site-packages)\n"
     ]
    },
    {
     "data": {
      "application/vnd.jupyter.widget-view+json": {
       "model_id": "6e80c494c4ba4664958db666399f8960",
       "version_major": 2,
       "version_minor": 0
      },
      "text/plain": [
       "README.md: 0.00B [00:00, ?B/s]"
      ]
     },
     "metadata": {},
     "output_type": "display_data"
    },
    {
     "name": "stderr",
     "output_type": "stream",
     "text": [
      "C:\\Users\\User\\anaconda3\\Lib\\site-packages\\huggingface_hub\\file_download.py:143: UserWarning: `huggingface_hub` cache-system uses symlinks by default to efficiently store duplicated files but your machine does not support them in C:\\Users\\User\\.cache\\huggingface\\hub\\datasets--lang-uk--recruitment-dataset-job-descriptions-english. Caching files will still work but in a degraded version that might require more space on your disk. This warning can be disabled by setting the `HF_HUB_DISABLE_SYMLINKS_WARNING` environment variable. For more details, see https://huggingface.co/docs/huggingface_hub/how-to-cache#limitations.\n",
      "To support symlinks on Windows, you either need to activate Developer Mode or to run Python as an administrator. In order to activate developer mode, see this article: https://docs.microsoft.com/en-us/windows/apps/get-started/enable-your-device-for-development\n",
      "  warnings.warn(message)\n",
      "Xet Storage is enabled for this repo, but the 'hf_xet' package is not installed. Falling back to regular HTTP download. For better performance, install the package with: `pip install huggingface_hub[hf_xet]` or `pip install hf_xet`\n"
     ]
    },
    {
     "data": {
      "application/vnd.jupyter.widget-view+json": {
       "model_id": "921048b492294243af4a13f4081cde66",
       "version_major": 2,
       "version_minor": 0
      },
      "text/plain": [
       "train-00000-of-00001.parquet:   0%|          | 0.00/146M [00:00<?, ?B/s]"
      ]
     },
     "metadata": {},
     "output_type": "display_data"
    },
    {
     "data": {
      "application/vnd.jupyter.widget-view+json": {
       "model_id": "d85f9a7bdc2c4cf986131b8610cf825f",
       "version_major": 2,
       "version_minor": 0
      },
      "text/plain": [
       "Generating train split:   0%|          | 0/141897 [00:00<?, ? examples/s]"
      ]
     },
     "metadata": {},
     "output_type": "display_data"
    }
   ],
   "source": [
    "# install if not already installed\n",
    "!pip install datasets\n",
    "\n",
    "# import\n",
    "from datasets import load_dataset\n",
    "\n",
    "# now you can call it\n",
    "data = load_dataset(\"lang-uk/recruitment-dataset-job-descriptions-english\")[\"train\"]\n"
   ]
  },
  {
   "cell_type": "code",
   "execution_count": 9,
   "id": "fd4ec541-d1d8-4a00-9ceb-8e51df9c576e",
   "metadata": {},
   "outputs": [
    {
     "data": {
      "text/plain": [
       "Dataset({\n",
       "    features: ['Position', 'Long Description', 'Company Name', 'Exp Years', 'Primary Keyword', 'English Level', 'Published', 'Long Description_lang', 'id', '__index_level_0__'],\n",
       "    num_rows: 141897\n",
       "})"
      ]
     },
     "execution_count": 9,
     "metadata": {},
     "output_type": "execute_result"
    }
   ],
   "source": [
    "data"
   ]
  },
  {
   "cell_type": "code",
   "execution_count": 11,
   "id": "d969cd4a-58ba-43c3-9dc7-9fe95cf08c42",
   "metadata": {},
   "outputs": [],
   "source": [
    "import pandas as pd\n",
    "import numpy as np"
   ]
  },
  {
   "cell_type": "code",
   "execution_count": 13,
   "id": "d166e586-4c0c-49cb-8ca8-789637360ddb",
   "metadata": {},
   "outputs": [],
   "source": [
    "df = pd.DataFrame(data)"
   ]
  },
  {
   "cell_type": "code",
   "execution_count": 15,
   "id": "a9ba9eb2-0842-47f3-ac10-6bb1ec62cf9e",
   "metadata": {},
   "outputs": [
    {
     "data": {
      "text/html": [
       "<div>\n",
       "<style scoped>\n",
       "    .dataframe tbody tr th:only-of-type {\n",
       "        vertical-align: middle;\n",
       "    }\n",
       "\n",
       "    .dataframe tbody tr th {\n",
       "        vertical-align: top;\n",
       "    }\n",
       "\n",
       "    .dataframe thead th {\n",
       "        text-align: right;\n",
       "    }\n",
       "</style>\n",
       "<table border=\"1\" class=\"dataframe\">\n",
       "  <thead>\n",
       "    <tr style=\"text-align: right;\">\n",
       "      <th></th>\n",
       "      <th>Position</th>\n",
       "      <th>Long Description</th>\n",
       "      <th>Company Name</th>\n",
       "      <th>Exp Years</th>\n",
       "      <th>Primary Keyword</th>\n",
       "      <th>English Level</th>\n",
       "      <th>Published</th>\n",
       "      <th>Long Description_lang</th>\n",
       "      <th>id</th>\n",
       "      <th>__index_level_0__</th>\n",
       "    </tr>\n",
       "  </thead>\n",
       "  <tbody>\n",
       "    <tr>\n",
       "      <th>0</th>\n",
       "      <td>10 + Blockchain Nodes / Masternodes to set up</td>\n",
       "      <td>*Requirements*\\r\\n\\r\\nWe're looking for a long...</td>\n",
       "      <td>MyCointainer</td>\n",
       "      <td>2y</td>\n",
       "      <td>Sysadmin</td>\n",
       "      <td>intermediate</td>\n",
       "      <td>2020-10-01T00:00:00+03:00</td>\n",
       "      <td>en</td>\n",
       "      <td>c0ca96e7-85df-50df-a64e-d934cd02a170</td>\n",
       "      <td>27461</td>\n",
       "    </tr>\n",
       "    <tr>\n",
       "      <th>1</th>\n",
       "      <td>10 .NET Developers (Middle and Senior level)</td>\n",
       "      <td>Greetings! My name is Maria, I am in urgent ne...</td>\n",
       "      <td>TechScout.tech</td>\n",
       "      <td>2y</td>\n",
       "      <td>.NET</td>\n",
       "      <td>intermediate</td>\n",
       "      <td>2022-03-01T00:00:00+02:00</td>\n",
       "      <td>en</td>\n",
       "      <td>64f4b7ea-36e4-5bdd-a8b1-185f32f7dc7f</td>\n",
       "      <td>27462</td>\n",
       "    </tr>\n",
       "    <tr>\n",
       "      <th>2</th>\n",
       "      <td>10X Engineer (co-founder, #4 employee, USD 11-...</td>\n",
       "      <td>**Product**\\r\\nThe product is a live video cha...</td>\n",
       "      <td>Innoteka</td>\n",
       "      <td>5y</td>\n",
       "      <td>JavaScript</td>\n",
       "      <td>fluent</td>\n",
       "      <td>2021-07-01T00:00:00+03:00</td>\n",
       "      <td>en</td>\n",
       "      <td>b9a1303e-dd0c-5ed1-8f62-be2bc4c7da4f</td>\n",
       "      <td>27463</td>\n",
       "    </tr>\n",
       "    <tr>\n",
       "      <th>3</th>\n",
       "      <td>16 - Amazon Brand Manager</td>\n",
       "      <td>Currently, TCM expanding its activities to Ukr...</td>\n",
       "      <td>FirstFive</td>\n",
       "      <td>2y</td>\n",
       "      <td>Marketing</td>\n",
       "      <td>upper</td>\n",
       "      <td>2022-01-01T00:00:00+02:00</td>\n",
       "      <td>en</td>\n",
       "      <td>99cb3f4a-9b4b-53d9-9a3b-bab2c22da346</td>\n",
       "      <td>27464</td>\n",
       "    </tr>\n",
       "    <tr>\n",
       "      <th>4</th>\n",
       "      <td>16 - Amazon Brand Manager</td>\n",
       "      <td>Hello,\\r\\nWe, MIMIRB2B, are an outstaff compan...</td>\n",
       "      <td>MimirB2B</td>\n",
       "      <td>1y</td>\n",
       "      <td>Marketing</td>\n",
       "      <td>upper</td>\n",
       "      <td>2021-12-01T00:00:00+02:00</td>\n",
       "      <td>en</td>\n",
       "      <td>bc1419f7-28e2-582b-8d53-22e28b2f0210</td>\n",
       "      <td>27465</td>\n",
       "    </tr>\n",
       "  </tbody>\n",
       "</table>\n",
       "</div>"
      ],
      "text/plain": [
       "                                            Position  \\\n",
       "0      10 + Blockchain Nodes / Masternodes to set up   \n",
       "1       10 .NET Developers (Middle and Senior level)   \n",
       "2  10X Engineer (co-founder, #4 employee, USD 11-...   \n",
       "3                          16 - Amazon Brand Manager   \n",
       "4                          16 - Amazon Brand Manager   \n",
       "\n",
       "                                    Long Description    Company Name  \\\n",
       "0  *Requirements*\\r\\n\\r\\nWe're looking for a long...    MyCointainer   \n",
       "1  Greetings! My name is Maria, I am in urgent ne...  TechScout.tech   \n",
       "2  **Product**\\r\\nThe product is a live video cha...        Innoteka   \n",
       "3  Currently, TCM expanding its activities to Ukr...       FirstFive   \n",
       "4  Hello,\\r\\nWe, MIMIRB2B, are an outstaff compan...        MimirB2B   \n",
       "\n",
       "  Exp Years Primary Keyword English Level                  Published  \\\n",
       "0        2y        Sysadmin  intermediate  2020-10-01T00:00:00+03:00   \n",
       "1        2y            .NET  intermediate  2022-03-01T00:00:00+02:00   \n",
       "2        5y      JavaScript        fluent  2021-07-01T00:00:00+03:00   \n",
       "3        2y       Marketing         upper  2022-01-01T00:00:00+02:00   \n",
       "4        1y       Marketing         upper  2021-12-01T00:00:00+02:00   \n",
       "\n",
       "  Long Description_lang                                    id  \\\n",
       "0                    en  c0ca96e7-85df-50df-a64e-d934cd02a170   \n",
       "1                    en  64f4b7ea-36e4-5bdd-a8b1-185f32f7dc7f   \n",
       "2                    en  b9a1303e-dd0c-5ed1-8f62-be2bc4c7da4f   \n",
       "3                    en  99cb3f4a-9b4b-53d9-9a3b-bab2c22da346   \n",
       "4                    en  bc1419f7-28e2-582b-8d53-22e28b2f0210   \n",
       "\n",
       "   __index_level_0__  \n",
       "0              27461  \n",
       "1              27462  \n",
       "2              27463  \n",
       "3              27464  \n",
       "4              27465  "
      ]
     },
     "execution_count": 15,
     "metadata": {},
     "output_type": "execute_result"
    }
   ],
   "source": [
    "df.head()"
   ]
  },
  {
   "cell_type": "code",
   "execution_count": 17,
   "id": "8fba71c0-32cd-4655-8737-b4230c20ea4f",
   "metadata": {},
   "outputs": [],
   "source": [
    "df.to_csv(\"data_career.csv\", index=False)"
   ]
  },
  {
   "cell_type": "code",
   "execution_count": 19,
   "id": "c171cbe3-5775-484f-ac00-91b69c087366",
   "metadata": {},
   "outputs": [
    {
     "name": "stdout",
     "output_type": "stream",
     "text": [
      "<class 'pandas.core.frame.DataFrame'>\n",
      "RangeIndex: 141897 entries, 0 to 141896\n",
      "Data columns (total 10 columns):\n",
      " #   Column                 Non-Null Count   Dtype \n",
      "---  ------                 --------------   ----- \n",
      " 0   Position               141897 non-null  object\n",
      " 1   Long Description       141897 non-null  object\n",
      " 2   Company Name           141897 non-null  object\n",
      " 3   Exp Years              141897 non-null  object\n",
      " 4   Primary Keyword        141897 non-null  object\n",
      " 5   English Level          134358 non-null  object\n",
      " 6   Published              141897 non-null  object\n",
      " 7   Long Description_lang  141897 non-null  object\n",
      " 8   id                     141897 non-null  object\n",
      " 9   __index_level_0__      141897 non-null  int64 \n",
      "dtypes: int64(1), object(9)\n",
      "memory usage: 10.8+ MB\n"
     ]
    }
   ],
   "source": [
    "df.info()"
   ]
  },
  {
   "cell_type": "code",
   "execution_count": 23,
   "id": "83b06cda-faeb-480f-946e-9c4ed734dbd0",
   "metadata": {},
   "outputs": [
    {
     "data": {
      "text/plain": [
       "0"
      ]
     },
     "execution_count": 23,
     "metadata": {},
     "output_type": "execute_result"
    }
   ],
   "source": [
    "df.duplicated().sum()"
   ]
  },
  {
   "cell_type": "code",
   "execution_count": 25,
   "id": "75cb6576-ef0f-4555-a20c-9c3ff6c257f1",
   "metadata": {},
   "outputs": [
    {
     "data": {
      "text/plain": [
       "Position                    0\n",
       "Long Description            0\n",
       "Company Name                0\n",
       "Exp Years                   0\n",
       "Primary Keyword             0\n",
       "English Level            7539\n",
       "Published                   0\n",
       "Long Description_lang       0\n",
       "id                          0\n",
       "__index_level_0__           0\n",
       "dtype: int64"
      ]
     },
     "execution_count": 25,
     "metadata": {},
     "output_type": "execute_result"
    }
   ],
   "source": [
    "df.isnull().sum()"
   ]
  },
  {
   "cell_type": "code",
   "execution_count": 31,
   "id": "660e9763-8017-4429-8e42-286327dd464d",
   "metadata": {},
   "outputs": [
    {
     "data": {
      "text/plain": [
       "Primary Keyword\n",
       "JavaScript           17903\n",
       "Java                  8712\n",
       "DevOps                7979\n",
       ".NET                  7826\n",
       "Other                 7536\n",
       "QA Automation         7047\n",
       "Marketing             6933\n",
       "QA                    6774\n",
       "Node.js               6416\n",
       "PHP                   5740\n",
       "Python                5735\n",
       "Project Manager       4618\n",
       "HR                    4063\n",
       "Design                4020\n",
       "Sales                 4014\n",
       "C++                   3743\n",
       "Business Analyst      3679\n",
       "Support               2819\n",
       "Android               2651\n",
       "iOS                   2398\n",
       "Data Science          2262\n",
       "Product Manager       1939\n",
       "Lead                  1861\n",
       "Ruby                  1834\n",
       "Golang                1747\n",
       "Sysadmin              1694\n",
       "SQL                   1459\n",
       "Data Engineer         1451\n",
       "Unity                 1165\n",
       "Lead Generation        840\n",
       "Security               830\n",
       "Data Analyst           767\n",
       "Recruiter              604\n",
       "Artist                 554\n",
       "Scala                  492\n",
       "Technical Writing      426\n",
       "SEO                    423\n",
       "Flutter                392\n",
       "Scrum Master           231\n",
       "Salesforce             165\n",
       "Rust                   151\n",
       "Block-chain              1\n",
       "SAP                      1\n",
       "React                    1\n",
       "Product Owner            1\n",
       "Name: count, dtype: int64"
      ]
     },
     "execution_count": 31,
     "metadata": {},
     "output_type": "execute_result"
    }
   ],
   "source": [
    "df[\"Primary Keyword\"].value_counts()"
   ]
  },
  {
   "cell_type": "code",
   "execution_count": null,
   "id": "79d46dd7-b0ac-4370-a25e-d340d2e7a95c",
   "metadata": {},
   "outputs": [],
   "source": []
  }
 ],
 "metadata": {
  "kernelspec": {
   "display_name": "Python [conda env:base] *",
   "language": "python",
   "name": "conda-base-py"
  },
  "language_info": {
   "codemirror_mode": {
    "name": "ipython",
    "version": 3
   },
   "file_extension": ".py",
   "mimetype": "text/x-python",
   "name": "python",
   "nbconvert_exporter": "python",
   "pygments_lexer": "ipython3",
   "version": "3.12.7"
  }
 },
 "nbformat": 4,
 "nbformat_minor": 5
}
